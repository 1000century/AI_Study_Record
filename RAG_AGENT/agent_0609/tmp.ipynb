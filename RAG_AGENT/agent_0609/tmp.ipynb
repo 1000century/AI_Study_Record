{
 "cells": [
  {
   "cell_type": "code",
   "execution_count": 1,
   "metadata": {},
   "outputs": [],
   "source": [
    "import streamlit as st\n",
    "from pdf_tools import open_pdf, get_page_content, add_toc_entry, get_toc\n",
    "import tempfile\n",
    "from openai import OpenAI\n",
    "import os\n",
    "import json\n"
   ]
  },
  {
   "cell_type": "code",
   "execution_count": 2,
   "metadata": {},
   "outputs": [
    {
     "name": "stdout",
     "output_type": "stream",
     "text": [
      "b8b2548e-7692-4ad1-bfe4-e8b285902d6a\n"
     ]
    }
   ],
   "source": [
    "tmp_path = r\"C:\\Users\\Sese\\Downloads\\12_pages_55_to_59.pdf\"\n",
    "result = open_pdf(tmp_path)\n",
    "doc_id = result['doc_id']\n",
    "print(doc_id)"
   ]
  },
  {
   "cell_type": "code",
   "execution_count": 3,
   "metadata": {},
   "outputs": [
    {
     "data": {
      "text/plain": [
       "{'status': 'success'}"
      ]
     },
     "execution_count": 3,
     "metadata": {},
     "output_type": "execute_result"
    }
   ],
   "source": [
    "add_toc_entry(doc_id, level=1, title=\"Introduction\", page=1)\n"
   ]
  },
  {
   "cell_type": "code",
   "execution_count": 5,
   "metadata": {},
   "outputs": [
    {
     "data": {
      "text/plain": [
       "{'status': 'success', 'toc': [[1, 'Introduction', 1]]}"
      ]
     },
     "execution_count": 5,
     "metadata": {},
     "output_type": "execute_result"
    }
   ],
   "source": [
    "toc = get_toc(doc_id)\n",
    "toc"
   ]
  },
  {
   "cell_type": "code",
   "execution_count": 18,
   "metadata": {},
   "outputs": [
    {
     "name": "stdout",
     "output_type": "stream",
     "text": [
      "{\"doc_id\":\"07cfc2c7-5267-488a-af12-799e54ff3820\",\"level\":1,\"title\":\"서론\",\"page\":5}\n"
     ]
    }
   ],
   "source": [
    "print(response.output[0].arguments)"
   ]
  },
  {
   "cell_type": "code",
   "execution_count": null,
   "metadata": {},
   "outputs": [],
   "source": []
  }
 ],
 "metadata": {
  "kernelspec": {
   "display_name": "base",
   "language": "python",
   "name": "python3"
  },
  "language_info": {
   "codemirror_mode": {
    "name": "ipython",
    "version": 3
   },
   "file_extension": ".py",
   "mimetype": "text/x-python",
   "name": "python",
   "nbconvert_exporter": "python",
   "pygments_lexer": "ipython3",
   "version": "3.12.3"
  }
 },
 "nbformat": 4,
 "nbformat_minor": 2
}
