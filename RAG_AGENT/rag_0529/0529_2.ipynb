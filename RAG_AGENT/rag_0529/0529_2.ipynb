{
 "cells": [
  {
   "cell_type": "code",
   "execution_count": 12,
   "id": "2c3b1f25",
   "metadata": {},
   "outputs": [],
   "source": [
    "from langchain_community.document_loaders import UnstructuredHTMLLoader\n",
    "\n",
    "from langchain_openai import OpenAIEmbeddings\n",
    "from langchain_chroma import Chroma\n",
    "from langchain_core.documents import Document\n",
    "import os\n",
    "import dotenv\n",
    "\n",
    "dotenv.load_dotenv()\n",
    "\n",
    "base_path = os.getenv(\"BASE_PATH\", \".\")\n",
    "API_KEY = os.getenv(\"OPENAI_API_KEY\", \"your-openai-api-key\")\n",
    "\n",
    "embedding = OpenAIEmbeddings(\n",
    "    model = \"text-embedding-3-small\",\n",
    "    openai_api_key=API_KEY,\n",
    ")\n",
    "\n",
    "vectordb_path = r\"C:\\Users\\Sese\\AI_Study_Record\\RAG_AGENT\\rag_0529\\chroma_db\"\n",
    "vectorstore = Chroma(\n",
    "    collection_name=\"html_docs\",\n",
    "    persist_directory=vectordb_path,\n",
    "    embedding_function=embedding,\n",
    ")\n"
   ]
  },
  {
   "cell_type": "markdown",
   "id": "2b733fa3",
   "metadata": {},
   "source": [
    "## query 1\n",
    "- 심부전으로 입원한 환자의 초기 평가 항목은?"
   ]
  },
  {
   "cell_type": "code",
   "execution_count": 39,
   "id": "6eccf39c",
   "metadata": {},
   "outputs": [
    {
     "name": "stdout",
     "output_type": "stream",
     "text": [
      "\n",
      "심부전으로 입원한 환자의 초기 평가 항목은?\n",
      "  순환기_11. 심부전_1. 심부전 개요_81\n",
      "  응급의학_2. 외상 환자의 응급처치_1. 응급처치_1271\n",
      "  외과_10. 외상_14. 전문 외상 처치술 (ATLS)_1472\n",
      "  외과_5. 수술 전 처치_2. 수술 전 위험도 평가_473\n",
      "  순환기_11. 심부전_4. 우심부전_79\n",
      "  전공의 내과_3. 노인 의학_1. 포괄적 노인 평가_1310\n",
      "  순환기_11. 심부전_2. 만성 심부전_82\n",
      "  외과_2. 쇼크 _1. 쇼크_447\n",
      "  순환기_2. 심혈관계 증상_3. 호흡곤란 (Dyspnea)_63\n",
      "  외과_9. 심폐소생술_6. 성인 전문소생술 (ACLS) - 빈맥_1435\n"
     ]
    }
   ],
   "source": [
    "query1 = [[],[]]\n",
    "\n",
    "retriever = vectorstore.as_retriever(\n",
    "    search_type=\"similarity\",\n",
    "    search_kwargs={\n",
    "        \"k\": 10,\n",
    "    }\n",
    ")\n",
    "query = \"심부전으로 입원한 환자의 초기 평가 항목은?\"\n",
    "docs = retriever.invoke(query)\n",
    "print(f\"\\n{query}\")\n",
    "for doc in docs:\n",
    "    source = doc.metadata.get('source', 'Unknown source')\n",
    "    x = os.path.basename(source)\n",
    "    print(f\"  {x[13:-5].strip()}\")\n",
    "    query1[0].append(x[13:-5].strip())\n"
   ]
  },
  {
   "cell_type": "code",
   "execution_count": 40,
   "id": "2dcc05ed",
   "metadata": {},
   "outputs": [
    {
     "name": "stdout",
     "output_type": "stream",
     "text": [
      "\n",
      "심부전으로 입원한 환자의 초기 평가 항목은?\n",
      "  순환기_11. 심부전_1. 심부전 개요_81\n",
      "  응급의학_2. 외상 환자의 응급처치_1. 응급처치_1271\n",
      "  외과_5. 수술 전 처치_2. 수술 전 위험도 평가_473\n",
      "  전공의 내과_3. 노인 의학_1. 포괄적 노인 평가_1310\n",
      "  외과_9. 심폐소생술_6. 성인 전문소생술 (ACLS) - 빈맥_1435\n",
      "  신경과_1. 신경과 총론_3. 신경계 진찰_1225\n",
      "  순환기_4. 심초음파_3. 좌심실 기능 평가_1496\n",
      "  내분비_5. 부신 질환_4. 부신우연종_273\n",
      "  전공의 내과_2. 의료인의 감염성 질환 노출 시 조치_2. 공기매개감염 노출 시 조치_1266\n",
      "  외과_9. 심폐소생술_11. 신생아 소생술 (Neonatal resuscitation)_1433\n"
     ]
    }
   ],
   "source": [
    "retriever = vectorstore.as_retriever(\n",
    "    search_type=\"mmr\",\n",
    "    search_kwargs={\n",
    "        \"k\": 10,\n",
    "    }\n",
    ")\n",
    "query = \"심부전으로 입원한 환자의 초기 평가 항목은?\"\n",
    "docs = retriever.invoke(query)\n",
    "print(f\"\\n{query}\")\n",
    "for doc in docs:\n",
    "    source = doc.metadata.get('source', 'Unknown source')\n",
    "    x = os.path.basename(source)\n",
    "    print(f\"  {x[13:-5].strip()}\")\n",
    "    query1[1].append(x[13:-5].strip())\n"
   ]
  },
  {
   "cell_type": "code",
   "execution_count": 51,
   "id": "57399929",
   "metadata": {},
   "outputs": [
    {
     "data": {
      "application/vnd.microsoft.datawrangler.viewer.v0+json": {
       "columns": [
        {
         "name": "index",
         "rawType": "int64",
         "type": "integer"
        },
        {
         "name": "similarity",
         "rawType": "object",
         "type": "string"
        },
        {
         "name": "mmr",
         "rawType": "object",
         "type": "string"
        },
        {
         "name": "일치여부",
         "rawType": "bool",
         "type": "boolean"
        },
        {
         "name": "sim이 mmr에",
         "rawType": "object",
         "type": "string"
        },
        {
         "name": "mmr이 sim에",
         "rawType": "object",
         "type": "string"
        }
       ],
       "ref": "e817b16e-2997-4886-9115-820be10549b1",
       "rows": [
        [
         "0",
         "순환기_11. 심부전_1. 심부전 개요_81",
         "순환기_11. 심부전_1. 심부전 개요_81",
         "True",
         "",
         ""
        ],
        [
         "1",
         "응급의학_2. 외상 환자의 응급처치_1. 응급처치_1271",
         "응급의학_2. 외상 환자의 응급처치_1. 응급처치_1271",
         "True",
         "",
         ""
        ],
        [
         "2",
         "외과_10. 외상_14. 전문 외상 처치술 (ATLS)_1472",
         "외과_5. 수술 전 처치_2. 수술 전 위험도 평가_473",
         "False",
         "-",
         "4번째에 존재"
        ],
        [
         "3",
         "외과_5. 수술 전 처치_2. 수술 전 위험도 평가_473",
         "전공의 내과_3. 노인 의학_1. 포괄적 노인 평가_1310",
         "False",
         "3번째에 존재",
         "6번째에 존재"
        ],
        [
         "4",
         "순환기_11. 심부전_4. 우심부전_79",
         "외과_9. 심폐소생술_6. 성인 전문소생술 (ACLS) - 빈맥_1435",
         "False",
         "-",
         "10번째에 존재"
        ],
        [
         "5",
         "전공의 내과_3. 노인 의학_1. 포괄적 노인 평가_1310",
         "신경과_1. 신경과 총론_3. 신경계 진찰_1225",
         "False",
         "4번째에 존재",
         "-"
        ],
        [
         "6",
         "순환기_11. 심부전_2. 만성 심부전_82",
         "순환기_4. 심초음파_3. 좌심실 기능 평가_1496",
         "False",
         "-",
         "-"
        ],
        [
         "7",
         "외과_2. 쇼크 _1. 쇼크_447",
         "내분비_5. 부신 질환_4. 부신우연종_273",
         "False",
         "-",
         "-"
        ],
        [
         "8",
         "순환기_2. 심혈관계 증상_3. 호흡곤란 (Dyspnea)_63",
         "전공의 내과_2. 의료인의 감염성 질환 노출 시 조치_2. 공기매개감염 노출 시 조치_1266",
         "False",
         "-",
         "-"
        ],
        [
         "9",
         "외과_9. 심폐소생술_6. 성인 전문소생술 (ACLS) - 빈맥_1435",
         "외과_9. 심폐소생술_11. 신생아 소생술 (Neonatal resuscitation)_1433",
         "False",
         "5번째에 존재",
         "-"
        ]
       ],
       "shape": {
        "columns": 5,
        "rows": 10
       }
      },
      "text/html": [
       "<div>\n",
       "<style scoped>\n",
       "    .dataframe tbody tr th:only-of-type {\n",
       "        vertical-align: middle;\n",
       "    }\n",
       "\n",
       "    .dataframe tbody tr th {\n",
       "        vertical-align: top;\n",
       "    }\n",
       "\n",
       "    .dataframe thead th {\n",
       "        text-align: right;\n",
       "    }\n",
       "</style>\n",
       "<table border=\"1\" class=\"dataframe\">\n",
       "  <thead>\n",
       "    <tr style=\"text-align: right;\">\n",
       "      <th></th>\n",
       "      <th>similarity</th>\n",
       "      <th>mmr</th>\n",
       "      <th>일치여부</th>\n",
       "      <th>sim이 mmr에</th>\n",
       "      <th>mmr이 sim에</th>\n",
       "    </tr>\n",
       "  </thead>\n",
       "  <tbody>\n",
       "    <tr>\n",
       "      <th>0</th>\n",
       "      <td>순환기_11. 심부전_1. 심부전 개요_81</td>\n",
       "      <td>순환기_11. 심부전_1. 심부전 개요_81</td>\n",
       "      <td>True</td>\n",
       "      <td></td>\n",
       "      <td></td>\n",
       "    </tr>\n",
       "    <tr>\n",
       "      <th>1</th>\n",
       "      <td>응급의학_2. 외상 환자의 응급처치_1. 응급처치_1271</td>\n",
       "      <td>응급의학_2. 외상 환자의 응급처치_1. 응급처치_1271</td>\n",
       "      <td>True</td>\n",
       "      <td></td>\n",
       "      <td></td>\n",
       "    </tr>\n",
       "    <tr>\n",
       "      <th>2</th>\n",
       "      <td>외과_10. 외상_14. 전문 외상 처치술 (ATLS)_1472</td>\n",
       "      <td>외과_5. 수술 전 처치_2. 수술 전 위험도 평가_473</td>\n",
       "      <td>False</td>\n",
       "      <td>-</td>\n",
       "      <td>4번째에 존재</td>\n",
       "    </tr>\n",
       "    <tr>\n",
       "      <th>3</th>\n",
       "      <td>외과_5. 수술 전 처치_2. 수술 전 위험도 평가_473</td>\n",
       "      <td>전공의 내과_3. 노인 의학_1. 포괄적 노인 평가_1310</td>\n",
       "      <td>False</td>\n",
       "      <td>3번째에 존재</td>\n",
       "      <td>6번째에 존재</td>\n",
       "    </tr>\n",
       "    <tr>\n",
       "      <th>4</th>\n",
       "      <td>순환기_11. 심부전_4. 우심부전_79</td>\n",
       "      <td>외과_9. 심폐소생술_6. 성인 전문소생술 (ACLS) - 빈맥_1435</td>\n",
       "      <td>False</td>\n",
       "      <td>-</td>\n",
       "      <td>10번째에 존재</td>\n",
       "    </tr>\n",
       "    <tr>\n",
       "      <th>5</th>\n",
       "      <td>전공의 내과_3. 노인 의학_1. 포괄적 노인 평가_1310</td>\n",
       "      <td>신경과_1. 신경과 총론_3. 신경계 진찰_1225</td>\n",
       "      <td>False</td>\n",
       "      <td>4번째에 존재</td>\n",
       "      <td>-</td>\n",
       "    </tr>\n",
       "    <tr>\n",
       "      <th>6</th>\n",
       "      <td>순환기_11. 심부전_2. 만성 심부전_82</td>\n",
       "      <td>순환기_4. 심초음파_3. 좌심실 기능 평가_1496</td>\n",
       "      <td>False</td>\n",
       "      <td>-</td>\n",
       "      <td>-</td>\n",
       "    </tr>\n",
       "    <tr>\n",
       "      <th>7</th>\n",
       "      <td>외과_2. 쇼크 _1. 쇼크_447</td>\n",
       "      <td>내분비_5. 부신 질환_4. 부신우연종_273</td>\n",
       "      <td>False</td>\n",
       "      <td>-</td>\n",
       "      <td>-</td>\n",
       "    </tr>\n",
       "    <tr>\n",
       "      <th>8</th>\n",
       "      <td>순환기_2. 심혈관계 증상_3. 호흡곤란 (Dyspnea)_63</td>\n",
       "      <td>전공의 내과_2. 의료인의 감염성 질환 노출 시 조치_2. 공기매개감염 노출 시 조...</td>\n",
       "      <td>False</td>\n",
       "      <td>-</td>\n",
       "      <td>-</td>\n",
       "    </tr>\n",
       "    <tr>\n",
       "      <th>9</th>\n",
       "      <td>외과_9. 심폐소생술_6. 성인 전문소생술 (ACLS) - 빈맥_1435</td>\n",
       "      <td>외과_9. 심폐소생술_11. 신생아 소생술 (Neonatal resuscitatio...</td>\n",
       "      <td>False</td>\n",
       "      <td>5번째에 존재</td>\n",
       "      <td>-</td>\n",
       "    </tr>\n",
       "  </tbody>\n",
       "</table>\n",
       "</div>"
      ],
      "text/plain": [
       "                                 similarity  \\\n",
       "0                  순환기_11. 심부전_1. 심부전 개요_81   \n",
       "1          응급의학_2. 외상 환자의 응급처치_1. 응급처치_1271   \n",
       "2       외과_10. 외상_14. 전문 외상 처치술 (ATLS)_1472   \n",
       "3          외과_5. 수술 전 처치_2. 수술 전 위험도 평가_473   \n",
       "4                    순환기_11. 심부전_4. 우심부전_79   \n",
       "5         전공의 내과_3. 노인 의학_1. 포괄적 노인 평가_1310   \n",
       "6                  순환기_11. 심부전_2. 만성 심부전_82   \n",
       "7                       외과_2. 쇼크 _1. 쇼크_447   \n",
       "8       순환기_2. 심혈관계 증상_3. 호흡곤란 (Dyspnea)_63   \n",
       "9  외과_9. 심폐소생술_6. 성인 전문소생술 (ACLS) - 빈맥_1435   \n",
       "\n",
       "                                                 mmr   일치여부 sim이 mmr에  \\\n",
       "0                           순환기_11. 심부전_1. 심부전 개요_81   True             \n",
       "1                   응급의학_2. 외상 환자의 응급처치_1. 응급처치_1271   True             \n",
       "2                   외과_5. 수술 전 처치_2. 수술 전 위험도 평가_473  False         -   \n",
       "3                  전공의 내과_3. 노인 의학_1. 포괄적 노인 평가_1310  False   3번째에 존재   \n",
       "4           외과_9. 심폐소생술_6. 성인 전문소생술 (ACLS) - 빈맥_1435  False         -   \n",
       "5                       신경과_1. 신경과 총론_3. 신경계 진찰_1225  False   4번째에 존재   \n",
       "6                      순환기_4. 심초음파_3. 좌심실 기능 평가_1496  False         -   \n",
       "7                          내분비_5. 부신 질환_4. 부신우연종_273  False         -   \n",
       "8  전공의 내과_2. 의료인의 감염성 질환 노출 시 조치_2. 공기매개감염 노출 시 조...  False         -   \n",
       "9  외과_9. 심폐소생술_11. 신생아 소생술 (Neonatal resuscitatio...  False   5번째에 존재   \n",
       "\n",
       "  mmr이 sim에  \n",
       "0            \n",
       "1            \n",
       "2   4번째에 존재  \n",
       "3   6번째에 존재  \n",
       "4  10번째에 존재  \n",
       "5         -  \n",
       "6         -  \n",
       "7         -  \n",
       "8         -  \n",
       "9         -  "
      ]
     },
     "execution_count": 51,
     "metadata": {},
     "output_type": "execute_result"
    }
   ],
   "source": [
    "import pandas as pd\n",
    "df = pd.DataFrame(query1, index=[\"similarity\", \"mmr\",]).T\n",
    "df['일치여부'] = df['similarity'] == df['mmr']\n",
    "\n",
    "# sim이 mmr에 존재하는 위치\n",
    "def sim_in_mmr(row):\n",
    "    if row['similarity'] == row['mmr']:\n",
    "        return \"\"\n",
    "    try:\n",
    "        return f\"{query1[1].index(row['similarity'])+1}번째에 존재\"\n",
    "    except ValueError:\n",
    "        return \"-\"\n",
    "\n",
    "# mmr이 sim에 존재하는 위치\n",
    "def mmr_in_sim(row):\n",
    "    if row['similarity'] == row['mmr']:\n",
    "        return \"\"\n",
    "    try:\n",
    "        return f\"{query1[0].index(row['mmr'])+1}번째에 존재\"\n",
    "    except ValueError:\n",
    "        return \"-\"\n",
    "\n",
    "# 열 추가\n",
    "df['sim이 mmr에'] = df.apply(sim_in_mmr, axis=1)\n",
    "df['mmr이 sim에'] = df.apply(mmr_in_sim, axis=1)\n",
    "\n",
    "df\n"
   ]
  },
  {
   "cell_type": "markdown",
   "id": "9a025347",
   "metadata": {},
   "source": [
    "## query 2.\n",
    "- 심부전으로 입원한 환자에게 처음 시행해야 할 처치는?"
   ]
  },
  {
   "cell_type": "code",
   "execution_count": 32,
   "id": "84245195",
   "metadata": {},
   "outputs": [
    {
     "name": "stdout",
     "output_type": "stream",
     "text": [
      "\n",
      "심부전으로 입원한 환자에게 처음 시행해야 할 처치는?\n",
      "  응급의학_2. 외상 환자의 응급처치_1. 응급처치_1271\n",
      "  외과_5. 수술 전 처치_9. 수술 전후 심부정맥혈전 예방 (perioperative VTE prophylaxis)_480\n",
      "  부인과_19. 자궁 경부암_2. 자궁 경부암 (Cervical cancer)_1424\n",
      "  외과_9. 심폐소생술_2. 성인 전문소생술 (ACLS) - 심정지 1 - 심정지 인지 및 기본 소생술(BLS)_1430\n",
      "  외과_5. 수술 전 처치_7. 수술 전 계통별 평가 5- 내분비계 평가_475\n",
      "  전공의 내과_2. 의료인의 감염성 질환 노출 시 조치_2. 공기매개감염 노출 시 조치_1266\n",
      "  순환기_11. 심부전_4. 우심부전_79\n",
      "  전공의 내과_1. 의료관련감염 예방_1. 손위생_1319\n",
      "  외과_5. 수술 전 처치_3. 수술 전 계통별 평가 1- 심혈관계 평가_476\n",
      "  외과_5. 수술 전 처치_8. 수술 전 계통별 평가 6- 혈액학적 평가_478\n"
     ]
    }
   ],
   "source": [
    "query2 = [[],[]]\n",
    "retriever = vectorstore.as_retriever(\n",
    "    search_type=\"similarity\",\n",
    "    search_kwargs={\n",
    "        \"k\": 10,\n",
    "    }\n",
    ")\n",
    "query = \"심부전으로 입원한 환자에게 처음 시행해야 할 처치는?\"\n",
    "docs = retriever.invoke(query)\n",
    "print(f\"\\n{query}\")\n",
    "for doc in docs:\n",
    "    source = doc.metadata.get('source', 'Unknown source')\n",
    "    x = os.path.basename(source)\n",
    "    print(f\"  {x[13:-5].strip()}\")\n",
    "    query2[0].append(x[13:-5].strip())\n"
   ]
  },
  {
   "cell_type": "code",
   "execution_count": 33,
   "id": "16e6b24e",
   "metadata": {},
   "outputs": [
    {
     "name": "stdout",
     "output_type": "stream",
     "text": [
      "\n",
      "심부전으로 입원한 환자에게 처음 시행해야 할 처치는?\n",
      "  응급의학_2. 외상 환자의 응급처치_1. 응급처치_1271\n",
      "  외과_5. 수술 전 처치_9. 수술 전후 심부정맥혈전 예방 (perioperative VTE prophylaxis)_480\n",
      "  부인과_19. 자궁 경부암_2. 자궁 경부암 (Cervical cancer)_1424\n",
      "  외과_9. 심폐소생술_2. 성인 전문소생술 (ACLS) - 심정지 1 - 심정지 인지 및 기본 소생술(BLS)_1430\n",
      "  전공의 내과_2. 의료인의 감염성 질환 노출 시 조치_2. 공기매개감염 노출 시 조치_1266\n",
      "  순환기_11. 심부전_4. 우심부전_79\n",
      "  전공의 내과_1. 의료관련감염 예방_1. 손위생_1319\n",
      "  순환기_15. 감염 심내막염_1. 감염 심내막염_116\n",
      "  외과_13. 뱀물림과 동물물림_1. 뱀 물림_508\n",
      "  순환기_19. 말초혈관질환_7. 심부정맥혈전증 (DVT)_528\n"
     ]
    }
   ],
   "source": [
    "retriever = vectorstore.as_retriever(\n",
    "    search_type=\"mmr\",\n",
    "    search_kwargs={\n",
    "        \"k\": 10,\n",
    "    }\n",
    ")\n",
    "query = \"심부전으로 입원한 환자에게 처음 시행해야 할 처치는?\"\n",
    "docs = retriever.invoke(query)\n",
    "print(f\"\\n{query}\")\n",
    "for doc in docs:\n",
    "    source = doc.metadata.get('source', 'Unknown source')\n",
    "    x = os.path.basename(source)\n",
    "    print(f\"  {x[13:-5].strip()}\")\n",
    "    query2[1].append(x[13:-5].strip())\n"
   ]
  },
  {
   "cell_type": "code",
   "execution_count": 52,
   "id": "291f8a2d",
   "metadata": {},
   "outputs": [
    {
     "data": {
      "application/vnd.microsoft.datawrangler.viewer.v0+json": {
       "columns": [
        {
         "name": "index",
         "rawType": "int64",
         "type": "integer"
        },
        {
         "name": "similarity",
         "rawType": "object",
         "type": "string"
        },
        {
         "name": "mmr",
         "rawType": "object",
         "type": "string"
        },
        {
         "name": "일치여부",
         "rawType": "bool",
         "type": "boolean"
        },
        {
         "name": "sim이 mmr에",
         "rawType": "object",
         "type": "string"
        },
        {
         "name": "mmr이 sim에",
         "rawType": "object",
         "type": "string"
        }
       ],
       "ref": "9fe08a2e-8a7f-4358-85c3-e8359840cca3",
       "rows": [
        [
         "0",
         "응급의학_2. 외상 환자의 응급처치_1. 응급처치_1271",
         "응급의학_2. 외상 환자의 응급처치_1. 응급처치_1271",
         "True",
         "",
         ""
        ],
        [
         "1",
         "외과_5. 수술 전 처치_9. 수술 전후 심부정맥혈전 예방 (perioperative VTE prophylaxis)_480",
         "외과_5. 수술 전 처치_9. 수술 전후 심부정맥혈전 예방 (perioperative VTE prophylaxis)_480",
         "True",
         "",
         ""
        ],
        [
         "2",
         "부인과_19. 자궁 경부암_2. 자궁 경부암 (Cervical cancer)_1424",
         "부인과_19. 자궁 경부암_2. 자궁 경부암 (Cervical cancer)_1424",
         "True",
         "",
         ""
        ],
        [
         "3",
         "외과_9. 심폐소생술_2. 성인 전문소생술 (ACLS) - 심정지 1 - 심정지 인지 및 기본 소생술(BLS)_1430",
         "외과_9. 심폐소생술_2. 성인 전문소생술 (ACLS) - 심정지 1 - 심정지 인지 및 기본 소생술(BLS)_1430",
         "True",
         "",
         ""
        ],
        [
         "4",
         "외과_5. 수술 전 처치_7. 수술 전 계통별 평가 5- 내분비계 평가_475",
         "전공의 내과_2. 의료인의 감염성 질환 노출 시 조치_2. 공기매개감염 노출 시 조치_1266",
         "False",
         "X",
         "6번째에 존재"
        ],
        [
         "5",
         "전공의 내과_2. 의료인의 감염성 질환 노출 시 조치_2. 공기매개감염 노출 시 조치_1266",
         "순환기_11. 심부전_4. 우심부전_79",
         "False",
         "5번째에 존재",
         "7번째에 존재"
        ],
        [
         "6",
         "순환기_11. 심부전_4. 우심부전_79",
         "전공의 내과_1. 의료관련감염 예방_1. 손위생_1319",
         "False",
         "6번째에 존재",
         "8번째에 존재"
        ],
        [
         "7",
         "전공의 내과_1. 의료관련감염 예방_1. 손위생_1319",
         "순환기_15. 감염 심내막염_1. 감염 심내막염_116",
         "False",
         "7번째에 존재",
         "X"
        ],
        [
         "8",
         "외과_5. 수술 전 처치_3. 수술 전 계통별 평가 1- 심혈관계 평가_476",
         "외과_13. 뱀물림과 동물물림_1. 뱀 물림_508",
         "False",
         "X",
         "X"
        ],
        [
         "9",
         "외과_5. 수술 전 처치_8. 수술 전 계통별 평가 6- 혈액학적 평가_478",
         "순환기_19. 말초혈관질환_7. 심부정맥혈전증 (DVT)_528",
         "False",
         "X",
         "X"
        ]
       ],
       "shape": {
        "columns": 5,
        "rows": 10
       }
      },
      "text/html": [
       "<div>\n",
       "<style scoped>\n",
       "    .dataframe tbody tr th:only-of-type {\n",
       "        vertical-align: middle;\n",
       "    }\n",
       "\n",
       "    .dataframe tbody tr th {\n",
       "        vertical-align: top;\n",
       "    }\n",
       "\n",
       "    .dataframe thead th {\n",
       "        text-align: right;\n",
       "    }\n",
       "</style>\n",
       "<table border=\"1\" class=\"dataframe\">\n",
       "  <thead>\n",
       "    <tr style=\"text-align: right;\">\n",
       "      <th></th>\n",
       "      <th>similarity</th>\n",
       "      <th>mmr</th>\n",
       "      <th>일치여부</th>\n",
       "      <th>sim이 mmr에</th>\n",
       "      <th>mmr이 sim에</th>\n",
       "    </tr>\n",
       "  </thead>\n",
       "  <tbody>\n",
       "    <tr>\n",
       "      <th>0</th>\n",
       "      <td>응급의학_2. 외상 환자의 응급처치_1. 응급처치_1271</td>\n",
       "      <td>응급의학_2. 외상 환자의 응급처치_1. 응급처치_1271</td>\n",
       "      <td>True</td>\n",
       "      <td></td>\n",
       "      <td></td>\n",
       "    </tr>\n",
       "    <tr>\n",
       "      <th>1</th>\n",
       "      <td>외과_5. 수술 전 처치_9. 수술 전후 심부정맥혈전 예방 (perioperativ...</td>\n",
       "      <td>외과_5. 수술 전 처치_9. 수술 전후 심부정맥혈전 예방 (perioperativ...</td>\n",
       "      <td>True</td>\n",
       "      <td></td>\n",
       "      <td></td>\n",
       "    </tr>\n",
       "    <tr>\n",
       "      <th>2</th>\n",
       "      <td>부인과_19. 자궁 경부암_2. 자궁 경부암 (Cervical cancer)_1424</td>\n",
       "      <td>부인과_19. 자궁 경부암_2. 자궁 경부암 (Cervical cancer)_1424</td>\n",
       "      <td>True</td>\n",
       "      <td></td>\n",
       "      <td></td>\n",
       "    </tr>\n",
       "    <tr>\n",
       "      <th>3</th>\n",
       "      <td>외과_9. 심폐소생술_2. 성인 전문소생술 (ACLS) - 심정지 1 - 심정지 인...</td>\n",
       "      <td>외과_9. 심폐소생술_2. 성인 전문소생술 (ACLS) - 심정지 1 - 심정지 인...</td>\n",
       "      <td>True</td>\n",
       "      <td></td>\n",
       "      <td></td>\n",
       "    </tr>\n",
       "    <tr>\n",
       "      <th>4</th>\n",
       "      <td>외과_5. 수술 전 처치_7. 수술 전 계통별 평가 5- 내분비계 평가_475</td>\n",
       "      <td>전공의 내과_2. 의료인의 감염성 질환 노출 시 조치_2. 공기매개감염 노출 시 조...</td>\n",
       "      <td>False</td>\n",
       "      <td>X</td>\n",
       "      <td>6번째에 존재</td>\n",
       "    </tr>\n",
       "    <tr>\n",
       "      <th>5</th>\n",
       "      <td>전공의 내과_2. 의료인의 감염성 질환 노출 시 조치_2. 공기매개감염 노출 시 조...</td>\n",
       "      <td>순환기_11. 심부전_4. 우심부전_79</td>\n",
       "      <td>False</td>\n",
       "      <td>5번째에 존재</td>\n",
       "      <td>7번째에 존재</td>\n",
       "    </tr>\n",
       "    <tr>\n",
       "      <th>6</th>\n",
       "      <td>순환기_11. 심부전_4. 우심부전_79</td>\n",
       "      <td>전공의 내과_1. 의료관련감염 예방_1. 손위생_1319</td>\n",
       "      <td>False</td>\n",
       "      <td>6번째에 존재</td>\n",
       "      <td>8번째에 존재</td>\n",
       "    </tr>\n",
       "    <tr>\n",
       "      <th>7</th>\n",
       "      <td>전공의 내과_1. 의료관련감염 예방_1. 손위생_1319</td>\n",
       "      <td>순환기_15. 감염 심내막염_1. 감염 심내막염_116</td>\n",
       "      <td>False</td>\n",
       "      <td>7번째에 존재</td>\n",
       "      <td>X</td>\n",
       "    </tr>\n",
       "    <tr>\n",
       "      <th>8</th>\n",
       "      <td>외과_5. 수술 전 처치_3. 수술 전 계통별 평가 1- 심혈관계 평가_476</td>\n",
       "      <td>외과_13. 뱀물림과 동물물림_1. 뱀 물림_508</td>\n",
       "      <td>False</td>\n",
       "      <td>X</td>\n",
       "      <td>X</td>\n",
       "    </tr>\n",
       "    <tr>\n",
       "      <th>9</th>\n",
       "      <td>외과_5. 수술 전 처치_8. 수술 전 계통별 평가 6- 혈액학적 평가_478</td>\n",
       "      <td>순환기_19. 말초혈관질환_7. 심부정맥혈전증 (DVT)_528</td>\n",
       "      <td>False</td>\n",
       "      <td>X</td>\n",
       "      <td>X</td>\n",
       "    </tr>\n",
       "  </tbody>\n",
       "</table>\n",
       "</div>"
      ],
      "text/plain": [
       "                                          similarity  \\\n",
       "0                   응급의학_2. 외상 환자의 응급처치_1. 응급처치_1271   \n",
       "1  외과_5. 수술 전 처치_9. 수술 전후 심부정맥혈전 예방 (perioperativ...   \n",
       "2    부인과_19. 자궁 경부암_2. 자궁 경부암 (Cervical cancer)_1424   \n",
       "3  외과_9. 심폐소생술_2. 성인 전문소생술 (ACLS) - 심정지 1 - 심정지 인...   \n",
       "4        외과_5. 수술 전 처치_7. 수술 전 계통별 평가 5- 내분비계 평가_475   \n",
       "5  전공의 내과_2. 의료인의 감염성 질환 노출 시 조치_2. 공기매개감염 노출 시 조...   \n",
       "6                             순환기_11. 심부전_4. 우심부전_79   \n",
       "7                    전공의 내과_1. 의료관련감염 예방_1. 손위생_1319   \n",
       "8        외과_5. 수술 전 처치_3. 수술 전 계통별 평가 1- 심혈관계 평가_476   \n",
       "9        외과_5. 수술 전 처치_8. 수술 전 계통별 평가 6- 혈액학적 평가_478   \n",
       "\n",
       "                                                 mmr   일치여부 sim이 mmr에  \\\n",
       "0                   응급의학_2. 외상 환자의 응급처치_1. 응급처치_1271   True             \n",
       "1  외과_5. 수술 전 처치_9. 수술 전후 심부정맥혈전 예방 (perioperativ...   True             \n",
       "2    부인과_19. 자궁 경부암_2. 자궁 경부암 (Cervical cancer)_1424   True             \n",
       "3  외과_9. 심폐소생술_2. 성인 전문소생술 (ACLS) - 심정지 1 - 심정지 인...   True             \n",
       "4  전공의 내과_2. 의료인의 감염성 질환 노출 시 조치_2. 공기매개감염 노출 시 조...  False         X   \n",
       "5                             순환기_11. 심부전_4. 우심부전_79  False   5번째에 존재   \n",
       "6                    전공의 내과_1. 의료관련감염 예방_1. 손위생_1319  False   6번째에 존재   \n",
       "7                     순환기_15. 감염 심내막염_1. 감염 심내막염_116  False   7번째에 존재   \n",
       "8                       외과_13. 뱀물림과 동물물림_1. 뱀 물림_508  False         X   \n",
       "9                순환기_19. 말초혈관질환_7. 심부정맥혈전증 (DVT)_528  False         X   \n",
       "\n",
       "  mmr이 sim에  \n",
       "0            \n",
       "1            \n",
       "2            \n",
       "3            \n",
       "4   6번째에 존재  \n",
       "5   7번째에 존재  \n",
       "6   8번째에 존재  \n",
       "7         X  \n",
       "8         X  \n",
       "9         X  "
      ]
     },
     "execution_count": 52,
     "metadata": {},
     "output_type": "execute_result"
    }
   ],
   "source": [
    "import pandas as pd\n",
    "df = pd.DataFrame(query2, index=[\"similarity\", \"mmr\",]).T\n",
    "df['일치여부'] = df['similarity'] == df['mmr']\n",
    "\n",
    "# sim이 mmr에 존재하는 위치\n",
    "def sim_in_mmr(row):\n",
    "    if row['similarity'] == row['mmr']:\n",
    "        return \"\"\n",
    "    try:\n",
    "        return f\"{query2[1].index(row['similarity'])+1}번째에 존재\"\n",
    "    except ValueError:\n",
    "        return \"X\"\n",
    "\n",
    "# mmr이 sim에 존재하는 위치\n",
    "def mmr_in_sim(row):\n",
    "    if row['similarity'] == row['mmr']:\n",
    "        return \"\"\n",
    "    try:\n",
    "        return f\"{query2[0].index(row['mmr'])+1}번째에 존재\"\n",
    "    except ValueError:\n",
    "        return \"X\"\n",
    "\n",
    "# 열 추가\n",
    "df['sim이 mmr에'] = df.apply(sim_in_mmr, axis=1)\n",
    "df['mmr이 sim에'] = df.apply(mmr_in_sim, axis=1)\n",
    "\n",
    "df\n"
   ]
  },
  {
   "cell_type": "markdown",
   "id": "94df6263",
   "metadata": {},
   "source": [
    "## fetch K"
   ]
  },
  {
   "cell_type": "code",
   "execution_count": 67,
   "id": "783976a5",
   "metadata": {},
   "outputs": [
    {
     "name": "stdout",
     "output_type": "stream",
     "text": [
      "\n",
      "급성 심부전으로 입원한 환자에게 처음 시행해야 할 처치는?\n",
      "  응급의학_2. 외상 환자의 응급처치_1. 응급처치_1271\n",
      "  순환기_11. 심부전_4. 우심부전_79\n",
      "  전공의 외과_4. 영양지원_1. 영양지원_1324\n",
      "  외과_9. 심폐소생술_11. 신생아 소생술 (Neonatal resuscitation)_1433\n",
      "  순환기_15. 감염 심내막염_1. 감염 심내막염_116\n"
     ]
    }
   ],
   "source": [
    "query2 = [[],[]]\n",
    "retriever = vectorstore.as_retriever(\n",
    "    search_type=\"mmr\",\n",
    "    search_kwargs={\n",
    "        \"k\": 5,\n",
    "        \"fetch_k\" :20,\n",
    "        \"lambda_mult\": 0.1\n",
    "    }\n",
    ")\n",
    "query = \"급성 심부전으로 입원한 환자에게 처음 시행해야 할 처치는?\"\n",
    "docs = retriever.invoke(query)\n",
    "print(f\"\\n{query}\")\n",
    "for doc in docs:\n",
    "    source = doc.metadata.get('source', 'Unknown source')\n",
    "    x = os.path.basename(source)\n",
    "    print(f\"  {x[13:-5].strip()}\")\n",
    "    query2[0].append(x[13:-5].strip())\n",
    "\n"
   ]
  }
 ],
 "metadata": {
  "kernelspec": {
   "display_name": "base",
   "language": "python",
   "name": "python3"
  },
  "language_info": {
   "codemirror_mode": {
    "name": "ipython",
    "version": 3
   },
   "file_extension": ".py",
   "mimetype": "text/x-python",
   "name": "python",
   "nbconvert_exporter": "python",
   "pygments_lexer": "ipython3",
   "version": "3.12.3"
  }
 },
 "nbformat": 4,
 "nbformat_minor": 5
}
