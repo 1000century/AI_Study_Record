{
 "cells": [
  {
   "cell_type": "code",
   "execution_count": 1,
   "id": "96bcdad3",
   "metadata": {},
   "outputs": [],
   "source": [
    "import os\n",
    "from langchain_community.document_loaders import UnstructuredHTMLLoader\n",
    "from langchain_chroma import Chroma\n",
    "from langchain_openai import OpenAIEmbeddings\n",
    "from langchain_core.documents import Document\n"
   ]
  },
  {
   "cell_type": "code",
   "execution_count": 30,
   "id": "6b25f083",
   "metadata": {},
   "outputs": [],
   "source": [
    "import dotenv\n",
    "dotenv.load_dotenv()\n",
    "\n",
    "base_path = os.getenv(\"BASE_PATH\", \".\")\n",
    "folder_path = os.path.join(base_path,\"html_files\")\n",
    "\n",
    "for idx, file_name in enumerate(os.listdir(folder_path)):\n",
    "    if file_name.endswith(\".html\"):\n",
    "        file_path = os.path.join(folder_path, file_name)\n",
    "        loader = UnstructuredHTMLLoader(file_path)\n",
    "        documents = loader.load()\n",
    "        if len(file_name.split('_')) != 6:\n",
    "            print(file_name,)\n",
    "        _,_, bc, bt, st, _ = file_name.split('_')\n",
    "        \n",
    "        \n",
    "        for doc in documents:\n",
    "            remove_first_line = '\\n'.join(doc.page_content.split('\\n')[1:])\n",
    "            final_content = f\"과목명: {bc}\\n\"\n",
    "            final_content += f\"주제: {bt}\\n\"\n",
    "            final_content += f\"소주제: {st}\\n\\n\"\n",
    "            final_content += remove_first_line\n",
    "            doc.page_content = final_content\n",
    "            doc.metadata['file_name'] = file_name\n",
    "            doc.metadata['chapter'] = bc\n",
    "            doc.metadata['big_title'] = bt\n",
    "            doc.metadata['small_title'] = st\n",
    "        \n",
    "        if idx == 0:\n",
    "            all_documents = documents\n",
    "        else:\n",
    "            all_documents.extend(documents)\n"
   ]
  },
  {
   "cell_type": "code",
   "execution_count": 32,
   "id": "4cf9bab7",
   "metadata": {},
   "outputs": [],
   "source": [
    "\n",
    "embedding = OpenAIEmbeddings(\n",
    "    model = \"text-embedding-3-small\",\n",
    "    openai_api_key=os.getenv(\"OPENAI_API_KEY\"),\n",
    ")\n",
    "vectorstore = Chroma(\n",
    "    collection_name=\"html_docs\",\n",
    "    embedding_function=embedding,\n",
    "    persist_directory=\"chroma_db\",\n",
    ")\n",
    "\n"
   ]
  },
  {
   "cell_type": "code",
   "execution_count": 33,
   "id": "1a625d38",
   "metadata": {},
   "outputs": [
    {
     "name": "stdout",
     "output_type": "stream",
     "text": [
      "Adding documents 0 to 100 to vectorstore\n",
      "Adding documents 100 to 200 to vectorstore\n",
      "Adding documents 200 to 300 to vectorstore\n",
      "Adding documents 300 to 400 to vectorstore\n",
      "Adding documents 400 to 500 to vectorstore\n",
      "Adding documents 500 to 600 to vectorstore\n",
      "Adding documents 600 to 700 to vectorstore\n",
      "Adding documents 700 to 800 to vectorstore\n",
      "Adding documents 800 to 900 to vectorstore\n",
      "Adding documents 900 to 1000 to vectorstore\n",
      "Adding documents 1000 to 1100 to vectorstore\n",
      "Adding documents 1100 to 1200 to vectorstore\n",
      "Adding documents 1200 to 1300 to vectorstore\n",
      "Adding documents 1300 to 1400 to vectorstore\n",
      "Adding documents 1400 to 1500 to vectorstore\n",
      "Adding documents 1500 to 1600 to vectorstore\n"
     ]
    }
   ],
   "source": [
    "for i in range(0, len(all_documents), 100):\n",
    "    print(f\"Adding documents {i} to {i+100} to vectorstore\")\n",
    "    batch = all_documents[i:i+100]\n",
    "    vectorstore.add_documents(batch)"
   ]
  },
  {
   "cell_type": "code",
   "execution_count": 45,
   "id": "ab3bf20e",
   "metadata": {},
   "outputs": [
    {
     "name": "stdout",
     "output_type": "stream",
     "text": [
      "|query|검색된 문서들|\n",
      "|---|---|\n",
      "|심부전으로 입원한 환자에게 처음 시행해야 할 처치는?|응급의학_2. 외상 환자의 응급처치_1. 응급처치<br>외과_5. 수술 전 처치_9. 수술 전후 심부정맥혈전 예방 (perioperative VTE prophylaxis)<br>부인과_19. 자궁 경부암_2. 자궁 경부암 (Cervical cancer)<br>외과_9. 심폐소생술_2. 성인 전문소생술 (ACLS) - 심정지 1 - 심정지 인지 및 기본 소생술(BLS)<br>외과_5. 수술 전 처치_7. 수술 전 계통별 평가 5- 내분비계 평가<br>|\n",
      "|수술 후 발생 가능한 DVT 예방 방법은?|순환기_19. 말초혈관질환_7. 심부정맥혈전증 (DVT)<br>외과_5. 수술 전 처치_9. 수술 전후 심부정맥혈전 예방 (perioperative VTE prophylaxis)<br>순환기_19. 말초혈관질환_4. 급성 동맥 폐색<br>외과_5. 수술 전 처치_3. 수술 전 계통별 평가 1- 심혈관계 평가<br>외과_5. 수술 전 처치_8. 수술 전 계통별 평가 6- 혈액학적 평가<br>|\n",
      "|분만 중 자궁수축 억제제 사용 기준은?|순환기_21. 실신_3. 기립성 저혈압<br>산과_23. 임신 중 고혈압 질환_6. 전자간증 치료<br>순환기_17. 고혈압_3. 고혈압 치료<br>외과_3. 수혈_4. 동결침전제제 (Cryoprecipitate) <br>신장_12. 그외 질환들_1. 부종<br>|\n",
      "|조기진통 시 자궁 억제약 처방 기준?|부인과_16. 자궁 체부 양성 질환_2. 자궁샘근육증<br>산과_5. 분만 관리 1- 정상 분만_2. 정상 분만의 요소 2- Power - 자궁의 수축력 요소 (분만진통)<br>산과_23. 임신 중 고혈압 질환_2. 임신 중 사용하는 항고혈압 약제<br>산과_21. 조기 산후 출혈_2. 자궁이완증(자궁근육무력증, uterine atony)<br>산과_14. 조산_3. 조기산통 (Preterm Labor, PTL)<br>|\n",
      "|열성 경련 1차 대응은?|정신과_17. 신경발달장애_6. 운동장애<br>정신과_18. 성격장애_3. Cluster B<br>전공의 외과_9. 외과적 합병증_2. 문합부 누출<br>부인과_23. 난소 양성 질환_5. 경계성 난소종양 (Borderline ovarian tumor)<br>정형외과_8. 외상 및 골절_2. 급성 구획 증후군<br>|\n",
      "|뇌전증 환자의 약 조절 기준은?|외과_9. 심폐소생술_11. 신생아 소생술 (Neonatal resuscitation)<br>전공의 내과_5. 암성 통증의 조절_1. 암성 통증 및 마약성 진통제<br>순환기_11. 심부전_2. 만성 심부전<br>외과_5. 수술 전 처치_7. 수술 전 계통별 평가 5- 내분비계 평가<br>순환기_11. 심부전_4. 우심부전<br>|\n",
      "|전자간증 기준 혈압 수치는?|순환기_17. 고혈압_1. 혈압 측정<br>순환기_17. 고혈압_2. 고혈압 환자의 평가<br>순환기_17. 고혈압_5. 고혈압성 응급<br>순환기_17. 고혈압_4. 2차성 고혈압<br>산과_23. 임신 중 고혈압 질환_5. 전자간증 개요<br>|\n",
      "|심부전으로 입원한 환자의 초기 평가 항목은?|순환기_11. 심부전_1. 심부전 개요<br>응급의학_2. 외상 환자의 응급처치_1. 응급처치<br>외과_10. 외상_14. 전문 외상 처치술 (ATLS)<br>외과_5. 수술 전 처치_2. 수술 전 위험도 평가<br>순환기_11. 심부전_4. 우심부전<br>|\n",
      "|고관절 골절 수술 전 체크리스트는?|소아과 각론_33. 골격계 질환_4. 일과성 고관절 활막염 <br>전공의 외과_10. 임상해부학_2. 골반 수술 시 합병증<br>전공의 외과_6. 중심정맥관_2. 중심정맥관 감염<br>외과_5. 수술 전 처치_9. 수술 전후 심부정맥혈전 예방 (perioperative VTE prophylaxis)<br>외과_5. 수술 전 처치_5. 수술 전 계통별 평가 3- 신장 평가<br>|\n",
      "|당뇨병성 케톤산증 치료 단계별 접근 방법은?|감염_8. 스피로헤타병_2. 렙토스피라증<br>소아과 각론_27. 내분비 질환_6. 당뇨병 케톤산증(DKA)<br>내분비_6. 당뇨병_2. 당뇨병 케톤산증(DKA), 고혈당 고삼투압상태 (HHS)<br>소아과 각론_33. 골격계 질환_3. 레그-칼베-페르테스병 <br>외과_13. 뱀물림과 동물물림_1. 뱀 물림<br>|\n",
      "|소아 고열 진단 순서는?|소아과 총론_13. 선천 기형_7. 입술갈림증(구순열), 구개열<br>소아과 총론_1. 소아의 진찰_3. 그외 진찰 소견<br>외과_8. 외과적 합병증 _1. 수술 후 발열<br>외과_9. 심폐소생술_7. 소아 전문소생술 (PALS) - 심정지<br>소아과 각론_14. 감염병_9. 성홍열 (A군 연쇄상구균감염)<br>|\n"
     ]
    }
   ],
   "source": [
    "query = [\"심부전으로 입원한 환자에게 처음 시행해야 할 처치는?\",\n",
    "\"수술 후 발생 가능한 DVT 예방 방법은?\",\n",
    "\"분만 중 자궁수축 억제제 사용 기준은?\",\n",
    "\"조기진통 시 자궁 억제약 처방 기준?\",\n",
    "\"열성 경련 1차 대응은?\",\n",
    "\"뇌전증 환자의 약 조절 기준은?\",\n",
    "\"전자간증 기준 혈압 수치는?\",\n",
    "\"심부전으로 입원한 환자의 초기 평가 항목은?\",\n",
    "\"고관절 골절 수술 전 체크리스트는?\",\n",
    "\"당뇨병성 케톤산증 치료 단계별 접근 방법은?\",\n",
    "\"소아 고열 진단 순서는?\"]\n",
    "\n",
    "retriever = vectorstore.as_retriever(\n",
    "    search_kwargs={\"k\":5})\n",
    "print('|query|검색된 문서들|')\n",
    "print('|---|---|')\n",
    "\n",
    "all_result = {}\n",
    "for q in query:\n",
    "    print(f\"|{q}\", end='|')\n",
    "    results = retriever.invoke(q)\n",
    "    for doc in results:\n",
    "        print(f\"{' '.join(doc.metadata['chapter'].split('.')[1:]).strip()}_{doc.metadata['big_title']}_{doc.metadata['small_title']}\", end='<br>')\n",
    "    print(\"|\")\n",
    "    all_result[q] = results"
   ]
  },
  {
   "cell_type": "code",
   "execution_count": 70,
   "id": "8f0276db",
   "metadata": {},
   "outputs": [
    {
     "name": "stdout",
     "output_type": "stream",
     "text": [
      "query: 심부전\n",
      "순환기_11. 심부전_4. 우심부전_79\n",
      "순환기_11. 심부전_3. 급성 심부전_80\n",
      "소아과 각론_21. 심혈관 질환_13. 심부전_781\n",
      "순환기_11. 심부전_1. 심부전 개요_81\n",
      "순환기_11. 심부전_2. 만성 심부전_82\n",
      "\n",
      "\n",
      "query: 심부전으로 입원한 환자에게 처음 시행해야 할 처치는?\n",
      "응급의학_2. 외상 환자의 응급처치_1. 응급처치_1271\n",
      "외과_5. 수술 전 처치_9. 수술 전후 심부정맥혈전 예방 (perioperative VTE prophylaxis)_480\n",
      "부인과_19. 자궁 경부암_2. 자궁 경부암 (Cervical cancer)_1424\n",
      "외과_9. 심폐소생술_2. 성인 전문소생술 (ACLS) - 심정지 1 - 심정지 인지 및 기본 소생술(BLS)_1430\n",
      "외과_5. 수술 전 처치_7. 수술 전 계통별 평가 5- 내분비계 평가_475\n",
      "\n",
      "\n",
      "query: 심부전으로 입원한 환자의 초기 평가 항목은?\n",
      "순환기_11. 심부전_1. 심부전 개요_81\n",
      "응급의학_2. 외상 환자의 응급처치_1. 응급처치_1271\n",
      "외과_10. 외상_14. 전문 외상 처치술 (ATLS)_1472\n",
      "외과_5. 수술 전 처치_2. 수술 전 위험도 평가_473\n",
      "순환기_11. 심부전_4. 우심부전_79\n",
      "\n",
      "\n",
      "query: 심부전 환자의 치료는?\n",
      "순환기_11. 심부전_4. 우심부전_79\n",
      "순환기_11. 심부전_3. 급성 심부전_80\n",
      "순환기_11. 심부전_2. 만성 심부전_82\n",
      "이비인후과_2. 비과_3. 비부동염_1211\n",
      "정신과_2. 조현병 스펙트럼 및 기타 정신병적 장애_1. 조현병_878\n",
      "\n",
      "\n"
     ]
    }
   ],
   "source": [
    "def invoke_result(query):\n",
    "    results = retriever.invoke(query)\n",
    "    print(\"query:\", query)\n",
    "    for doc in results:\n",
    "        print(doc.metadata['file_name'][13:-5].strip())\n",
    "    print('\\n')\n",
    "invoke_result(\"심부전\")\n",
    "invoke_result(\"심부전으로 입원한 환자에게 처음 시행해야 할 처치는?\")\n",
    "invoke_result(\"심부전으로 입원한 환자의 초기 평가 항목은?\")\n",
    "invoke_result(\"심부전 환자의 치료는?\")"
   ]
  }
 ],
 "metadata": {
  "kernelspec": {
   "display_name": "base",
   "language": "python",
   "name": "python3"
  },
  "language_info": {
   "codemirror_mode": {
    "name": "ipython",
    "version": 3
   },
   "file_extension": ".py",
   "mimetype": "text/x-python",
   "name": "python",
   "nbconvert_exporter": "python",
   "pygments_lexer": "ipython3",
   "version": "3.12.3"
  }
 },
 "nbformat": 4,
 "nbformat_minor": 5
}
