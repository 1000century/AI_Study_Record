{
 "cells": [
  {
   "cell_type": "code",
   "execution_count": 3,
   "metadata": {},
   "outputs": [],
   "source": [
    "from dotenv import load_dotenv\n",
    "from langchain_openai import OpenAIEmbeddings\n",
    "from langchain_community.vectorstores import FAISS\n",
    "import os\n",
    "load_dotenv()\n",
    "OPENAI_API_KEY = os.getenv(\"OPENAI_API_KEY\")\n",
    "\n",
    "embeddings = OpenAIEmbeddings(\n",
    "    model=\"text-embedding-3-small\",\n",
    "    api_key=OPENAI_API_KEY,\n",
    ")\n",
    "\n",
    "db = FAISS.load_local(\n",
    "\tr\"C:\\Users\\Sese\\PROJECT\\TAWILWIND\\medihelper\\vectordb\\data\\faiss_db_hira\",\n",
    "\tembeddings=embeddings,\n",
    "\tallow_dangerous_deserialization=True\n",
    ")\n",
    "results = db.similarity_search(\n",
    "    \"Tuberculosis\",\n",
    "\tk=5\n",
    ")"
   ]
  },
  {
   "cell_type": "code",
   "execution_count": 15,
   "metadata": {},
   "outputs": [
    {
     "name": "stdout",
     "output_type": "stream",
     "text": [
      "Score: 1.4738406\n",
      "Content: 2 장 제 1 절 검체 검사료 [ 감염검사 ] < 진균 > 누 -620 일반진균검사 다.화학반응 - 장비측정 † ※ 세부검사항목 (01) (1-3)- β -D-Glucan ○ 제 2 부 제 2 장 제 1 절 검체 검사료 [ 감염검사 ] < 바이러스 > 누 -653 일반면역검사 가. 바이러스항원 ( 바이러스별 ) † ※ 세부검사항목 (01) Respiratory Syncytial Virus (02) Adenovirus (03) Rotavirus 누 -658 핵산증폭 라. 정성그룹 4 † ※ 세부검사항목 (03) 메르스 코로나바이러스 (MERS Coronavirus) [ 실시간역전사중합효소연쇄반응법 ] 누 -680 핵산증폭 가.\n",
      "Metadata: {'chunk_index': 2, 'date': '2018-03-30', 'files': '3208_1_xls\\n(수정3)_ 외부용 수가반영내역(4.1기준).xls', 'index': 3208, 'title': '(수정3) 의·치과 한방 약국 수가파일 (4.1기준) 전체판 포함', 'total_chunks': 12, 'view_count': '8,875', 'writer': '의료수가개발부'}\n",
      "--------------------------------------------------\n",
      "Score: 1.4813588\n",
      "Content: 호 및 제 2014-8 호 ” 와 관련된 희귀난치성질환 일부상병목록을 함께 게재함. 2.[ 별첨 2] 입원 본인부담금 산정특례 심장질환의 상병명 및 수술명 : 수술명 ( 수술코드 ) 일부 변경 * 부분체외순환 (O1901,O1902) → 부분체외순환 (O1901~ O1904).\n",
      "Metadata: {'chunk_index': 1, 'date': '2014-01-23', 'files': '1696_1_hwp\\n일부상병목록.hwp; 1696_2_hwp\\n본인일부부담금_산정특례에_관한_기준_일부개정안.hwp; 1696_3_hwp\\n(전문)_본인일부부담금_산정특례에_관한_기준[1].hwp', 'index': 1696, 'title': '(고시 제2014-8호) 본인일부부담금 산정특례에 관한 기준 개정고시 안내', 'total_chunks': 2, 'view_count': '1,561', 'writer': '행위기획부'}\n",
      "--------------------------------------------------\n",
      "Score: 1.4864686\n",
      "Content: (SIB-K) 의료기술평가부 033-739-1737 누 -532 약물 및 독물 다 (4).정밀분광 - 질량분석 - 질량 ( 정량 ): (A9)Infliximab 033-739-1748 누 591 나 (14)~(17) 핵산증폭 - 정성그룹 2-Bordetella pertussis[ 실시간중합효소연쇄반응법 ]~Haemophilus influenzae[ 실시간중합효소연쇄반응법 ] 신설 033-739-1753 심장초음파검사 관련 급여관리부 033-739-1911~1914 수가코드 관련 의료수가개발부 033-739-1535.\n",
      "Metadata: {'chunk_index': 2, 'date': '2021-08-31', 'files': '4976_1_xls\\n수정_수가반영내역(고시 2021-215,220,229,231호)_(21.9.1시행)_홈페이지용.xls', 'index': 4976, 'title': \"수정_[행위] 의·치과 한방 수가파일 ('21.9.1.기준)_전체판 포함(수정)\", 'total_chunks': 3, 'view_count': '2,374', 'writer': '의료수가개발부'}\n",
      "--------------------------------------------------\n",
      "Score: 1.4950967\n",
      "Content: RS Coronavirus) [ 실시간역전사중합효소연쇄반응법 ] 누 -680 핵산증폭 가.다종그룹 1 † ※ 세부검사항목 (08) 하부요로생식기 및 성매개감염원인균 ( 클라미디어 트라코마티스 , 임균 , 트리코모나스균 ) [ 다중 실시간 중합효소연쇄반응 ] ○ 제 2 부 제 2 장 제 1 절 검체 검사료 [ 면역검사 ] < 조직적합성 > 누 -841 조직형검사 - 단일형 다. 핵산증폭 † ※ 세부검사항목 (03) HLA-B5801 라. 염기서열분석 † ※ 세부검사항목 (03) HLA-B5801 ○ 제 2 부 제 2 장 제 2 절 병리 검사료 [ 사람유전자 분자유전검사 ] 나 -580 유전성 유전자검사 다. 염기서열분석 (1) 염기서열반응 10 회 이하 ※ 세부검사항목 (38) TMEM127, (39) MAX Gene 다.\n",
      "Metadata: {'chunk_index': 3, 'date': '2018-03-30', 'files': '3208_1_xls\\n(수정3)_ 외부용 수가반영내역(4.1기준).xls', 'index': 3208, 'title': '(수정3) 의·치과 한방 약국 수가파일 (4.1기준) 전체판 포함', 'total_chunks': 12, 'view_count': '8,875', 'writer': '의료수가개발부'}\n",
      "--------------------------------------------------\n",
      "Score: 1.5035288\n",
      "Content: 수 3인 라. 참여 의사 수 6인 마. 참여 의사 수 7인 바. 참여 의사 수 8인 사.참여 의사 수 9인 이상 ※ 검체검사 행위 재분류(고시 제2017-222,224,227,234,235,236호 관련) ○ 제2부 제2장 검사료 제1절 검체 검사료 <대분류코드 D> ○ 제2부 제2장 검사료 제2절 병리 검사료 <대분류코드 C> ○ 제2부 제2장 검사료 제1절 검체 검사료 [심뇌혈관질환검사] (고시 제2017-233,234호) 누-405 심장표지자-ST2 가. 일반면역검사(정량) 선별80% 나. 정밀면역검사(정량) 선별80% ○ 제2부 제2장 검사료 제1절 검체 검사료 [감염검사-일반미생물] (고시 제2017-233,251호) 누-590 세균독소검사 라. Clostridium difficile 독소 A·B 글루탐산탈수소효소[정밀면역검사]-간인검사- 선별주항 삭제 마.\n",
      "Metadata: {'chunk_index': 4, 'date': '2017-12-27', 'files': '3100_1_xls\\n수정)_의치과_한방_약국수가파일(전체판포함_180101기준).xls', 'index': 3100, 'title': '(수정)_의치과_한방_약국_수가파일(전체판포함)_18.1.1기준', 'total_chunks': 8, 'view_count': '12,496', 'writer': '의료수가개발부'}\n",
      "--------------------------------------------------\n"
     ]
    }
   ],
   "source": [
    "results = db.similarity_search_with_score(\n",
    "    \"Tuberculosis\",\n",
    "\tk=5\n",
    ")\n",
    "\n",
    "# 📋 결과 출력\n",
    "for doc, score in results:\n",
    "    print(\"Score:\", score)\n",
    "    print(\"Content:\", doc.page_content)\n",
    "    print(\"Metadata:\", doc.metadata)\n",
    "    print(\"-\" * 50)"
   ]
  },
  {
   "cell_type": "code",
   "execution_count": null,
   "metadata": {},
   "outputs": [],
   "source": []
  }
 ],
 "metadata": {
  "kernelspec": {
   "display_name": "base",
   "language": "python",
   "name": "python3"
  },
  "language_info": {
   "codemirror_mode": {
    "name": "ipython",
    "version": 3
   },
   "file_extension": ".py",
   "mimetype": "text/x-python",
   "name": "python",
   "nbconvert_exporter": "python",
   "pygments_lexer": "ipython3",
   "version": "3.12.3"
  }
 },
 "nbformat": 4,
 "nbformat_minor": 2
}
