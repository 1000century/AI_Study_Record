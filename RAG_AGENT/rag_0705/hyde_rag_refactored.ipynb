{
 "cells": [
  {
   "cell_type": "markdown",
   "metadata": {},
   "source": [
    "# HyDE (Hypothetical Document Embeddings) for RAG"
   ]
  },
  {
   "cell_type": "markdown",
   "metadata": {},
   "source": [
    "이 노트북은 Hypothetical Document Embeddings (HyDE)를 사용하여 Retrieval-Augmented Generation (RAG) 시스템의 검색 성능을 향상시키는 방법을 보여줍니다. HyDE는 주어진 질문에 대한 가상의 문서를 생성하고, 이 가상 문서의 임베딩을 사용하여 실제 문서를 검색하는 방식입니다."
   ]
  },
  {
   "cell_type": "markdown",
   "metadata": {},
   "source": [
    "## 1. 환경 설정 및 라이브러리 임포트"
   ]
  },
  {
   "cell_type": "code",
   "execution_count": 3,
   "id": "initial_setup",
   "metadata": {},
   "outputs": [],
   "source": [
    "from dotenv import load_dotenv\n",
    "import os\n",
    "\n",
    "# .env 파일에서 환경 변수 로드\n",
    "load_dotenv()\n",
    "\n",
    "from langchain_openai import OpenAIEmbeddings, ChatOpenAI\n",
    "from langchain_google_genai import ChatGoogleGenerativeAI\n",
    "from langchain_chroma import Chroma\n",
    "from langchain.chains import HypotheticalDocumentEmbedder, LLMChain\n",
    "from langchain.prompts import PromptTemplate, ChatPromptTemplate\n",
    "from langchain_core.output_parsers import StrOutputParser"
   ]
  },
  {
   "cell_type": "markdown",
   "metadata": {},
   "source": [
    "## 2. 모델 및 임베딩 초기화"
   ]
  },
  {
   "cell_type": "code",
   "execution_count": 4,
   "id": "model_init",
   "metadata": {},
   "outputs": [],
   "source": [
    "# 임베딩 모델 초기화 (OpenAI)\n",
    "embeddings = OpenAIEmbeddings(model=\"text-embedding-3-small\")\n",
    "\n",
    "# LLM 초기화 (Google Gemini Flash)\n",
    "llm = ChatGoogleGenerativeAI(\n",
    "    model = \"gemini-2.0-flash\",\n",
    ")"
   ]
  },
  {
   "cell_type": "markdown",
   "metadata": {},
   "source": [
    "## 3. ChromaDB 및 Retriever 설정"
   ]
  },
  {
   "cell_type": "code",
   "execution_count": 5,
   "id": "chromadb_setup",
   "metadata": {},
   "outputs": [],
   "source": [
    "# ChromaDB 영속 디렉토리 설정\n",
    "PERSIST_DIRECTORY = r\"C:\\Users\\Sese\\AI_Study_Record\\RAG_AGENT\\rag_0705\\chroma_db\"\n",
    "COLLECTION_NAME = \"html_docs\"\n",
    "\n",
    "# ChromaDB 로드 및 Retriever 생성\n",
    "db = Chroma(\n",
    "    persist_directory=PERSIST_DIRECTORY,\n",
    "    embedding_function=embeddings,\n",
    "    collection_name=COLLECTION_NAME,\n",
    ")\n",
    "retriever = db.as_retriever()"
   ]
  },
  {
   "cell_type": "markdown",
   "metadata": {},
   "source": [
    "## 4. HyDE (Hypothetical Document Embedder) 체인 구성"
   ]
  },
  {
   "cell_type": "markdown",
   "metadata": {},
   "source": [
    "HyDE는 질문에 대한 가상의 답변(문서)을 생성하고, 이 가상 문서의 임베딩을 사용하여 실제 문서를 검색합니다. 이를 통해 질문과 직접적으로 일치하지 않는 문서도 검색할 수 있습니다."
   ]
  },
  {
   "cell_type": "code",
   "execution_count": 6,
   "id": "hyde_chain",
   "metadata": {},
   "outputs": [],
   "source": [
    "# HyDE 문서 생성을 위한 프롬프트 템플릿\n",
    "template_hyde = \"\"\"Please write a scientific paper passage to answer the question\n",
    "Question: {question}\n",
    "Passage:\"\"\"\n",
    "prompt_hyde = ChatPromptTemplate.from_template(template_hyde)\n",
    "\n",
    "# HyDE 체인: 질문 -> LLM (가상 문서 생성) -> 임베딩 -> 검색\n",
    "generate_docs_for_retrieval = (\n",
    "    prompt_hyde | llm | StrOutputParser() \n",
    ")"
   ]
  },
  {
   "cell_type": "markdown",
   "metadata": {},
   "source": [
    "## 5. RAG (Retrieval-Augmented Generation) 체인 구성"
   ]
  },
  {
   "cell_type": "markdown",
   "metadata": {},
   "source": [
    "HyDE를 통해 검색된 문서를 기반으로 최종 답변을 생성하는 RAG 체인입니다."
   ]
  },
  {
   "cell_type": "code",
   "execution_count": 7,
   "id": "rag_chain",
   "metadata": {},
   "outputs": [],
   "source": [
    "# RAG를 위한 프롬프트 템플릿\n",
    "template_rag = \"\"\"Answer the following question based on this context:\n",
    "\n",
    "{context}\n",
    "\n",
    "Question: {question}\n",
    "\"\"\"\n",
    "prompt_rag = ChatPromptTemplate.from_template(template_rag)\n",
    "\n",
    "# 최종 RAG 체인: 검색된 문서 + 질문 -> LLM (답변 생성)\n",
    "final_rag_chain = (\n",
    "    prompt_rag\n",
    "    | llm\n",
    "    | StrOutputParser()\n",
    ")"
   ]
  },
  {
   "cell_type": "markdown",
   "metadata": {},
   "source": [
    "## 6. HyDE RAG 실행 및 결과 확인"
   ]
  },
  {
   "cell_type": "code",
   "execution_count": 10,
   "id": "execution",
   "metadata": {},
   "outputs": [
    {
     "name": "stdout",
     "output_type": "stream",
     "text": [
      "질문: 뎅기열과 비슷한 매개체로 전파되는 질환은?\n",
      "\n",
      "\u001b[94m--- HyDE를 사용하여 가상 문서 생성 중 ---\u001b[0m\n",
      "\u001b[94m------ 생성된 가상 문서 (HyDE) ---\u001b[0m\n",
      "Here's a scientific paper passage answering the question \"뎅기열과 비슷한 매개체로 전파되는 질환은? (What diseases are transmitted by similar vectors to Dengue fever?)\":\n",
      "\n",
      "\"Dengue fever (DF) is a mosquito-borne viral disease caused primarily by four serotypes of the dengue virus (DENV 1-4). These viruses are primarily transmitted to humans through the bites of infected *Aedes aegypti* and, to a lesser extent, *Aedes albopictus* mosquitoes. Due to the shared vector ecology of these *Aedes* species, several other arboviral diseases are frequently found in the same geographic regions as DF and share similar transmission patterns. **Chikungunya, Zika virus disease, and yellow fever are prominent examples of diseases transmitted by the same *Aedes aegypti* mosquito vector as dengue fever.**  These diseases often present with overlapping clinical symptoms, making accurate diagnosis challenging. Furthermore, co-infection with multiple arboviruses is possible, further complicating disease management and public health interventions. Surveillance and control strategies targeting *Aedes* mosquito populations are therefore crucial for the prevention and control of dengue fever as well as these other co-circulating arboviral diseases.\"\n",
      "\n",
      "**Translation of key phrases:**\n",
      "\n",
      "*   뎅기열 (Dengue fever)\n",
      "*   매개체 (vector)\n",
      "*   전파되는 (transmitted)\n",
      "*   질환 (disease)\n",
      "*   *Aedes aegypti* (흰줄숲모기 or Aedes aegypti mosquito)\n",
      "*   Chikungunya (치쿤구니야열)\n",
      "*   Zika virus disease (지카 바이러스 질환)\n",
      "*   Yellow fever (황열)\n",
      "\n",
      "**Explanation of why this passage answers the question:**\n",
      "\n",
      "The passage directly states that Chikungunya, Zika virus disease, and Yellow fever are transmitted by the same *Aedes aegypti* mosquito vector as dengue fever. It also highlights the implications of this shared vector, such as overlapping symptoms and the possibility of co-infections.  The passage provides context for understanding the epidemiological relationship between Dengue fever and these other arboviral diseases, all transmitted by the same mosquito species.\n",
      "\n",
      "\u001b[94m--- 가상 문서를 사용하여 실제 문서 검색 중 ---\u001b[0m\n",
      "\n",
      "\u001b[94m--- 검색된 문서 ---\u001b[0m\n",
      "\n",
      "문서 1:\n",
      "ID: None\n",
      "Source: C:\\Users\\Sese\\autosave\\알렌 이론 추출\\theory_texts\\1643_3848_여행 관련 바이러스 감염.html\n",
      "Content (첫 200자): 제목: 여행 관련 바이러스 감염\n",
      "\n",
      "1. 뎅기열(Dengue fever) \n",
      " 1) 원인: Dengue virus \n",
      " (1) Vector:   모기 (Aedes aegypti) \n",
      " (2) 분포: 열대지역( 동남아시아 , 남태평양, 아프리카, 아메리카 대륙) \n",
      " (3) 해외유입 감염병 중 m/c:  국내 환자 빠르게 증가 중 \n",
      " \n",
      " 2) 임상양상:  HFRS 처...\n",
      "\n",
      "문서 2:\n",
      "ID: None\n",
      "Source: C:\\Users\\Sese\\autosave\\알렌 이론 추출\\theory_texts\\1643_3848_여행 관련 바이러스 감염.html\n",
      "Content (첫 200자): 제목: 여행 관련 바이러스 감염\n",
      "\n",
      "4. 황열(yellow fever) \n",
      " 1) 원인: Yellow fever virus \n",
      " (1) Vector: 모기(Aedes aegypti) \n",
      " (2) 분포: 열대지역(아프리카, 남아메리카) \n",
      " \n",
      " 2) 임상양상: 바이러스 출혈열 \n",
      " (1) Flu-like symptoms: 발열, 오한, 인후통, 근육통 등 \n",
      " (2) 호...\n",
      "\n",
      "문서 3:\n",
      "ID: None\n",
      "Source: C:\\Users\\Sese\\autosave\\알렌 이론 추출\\theory_texts\\1643_3848_여행 관련 바이러스 감염.html\n",
      "Content (첫 200자): 제목: 여행 관련 바이러스 감염\n",
      "\n",
      "2. 치쿤구니야열(Chikungunya fever) \n",
      " 1) 원인: Chikungunya virus \n",
      " (1) Vector:   모기 (Aedes aegypti, A. albopictus) \n",
      " (2) 분포:  동남아시아 , 아프리카 \n",
      " (3) 뎅기열이 의심되어 검사해보니 치쿤구니야열로 진단되는 사람들이 꽤 많음 \n",
      " \n",
      " 2)...\n",
      "\n",
      "문서 4:\n",
      "ID: None\n",
      "Source: C:\\Users\\Sese\\autosave\\알렌 이론 추출\\theory_texts\\1643_3848_여행 관련 바이러스 감염.html\n",
      "Content (첫 200자): 제목: 여행 관련 바이러스 감염\n",
      "\n",
      "3. 지카바이러스 감염증(Zika virus infection) \n",
      " 1) 원인: Zika virus \n",
      " (1) Vector:   모기 (Aedes spp.) \n",
      " (2) 분포:  브라질 , 우간다, 동남아시아, 북미 \n",
      " (3)  성관계, 수혈 을 통한 전파  가능 \n",
      " \n",
      " 2) 임상양상 \n",
      " (1) 주호소:  발열 \n",
      " (2) 기...\n",
      "\n",
      "\u001b[94m--- 최종 답변 생성 중 ---\u001b[0m\n",
      "\n",
      "\n",
      "--- 최종 답변 --- \n",
      "\n",
      "치쿤구니야열, 황열, 지카바이러스 감염증\n"
     ]
    }
   ],
   "source": [
    "# 테스트 질문\n",
    "question = \"뎅기열과 비슷한 매개체로 전파되는 질환은?\"\n",
    "\n",
    "print(f\"질문: {question}\\n\")\n",
    "\n",
    "# 1. HyDE를 사용하여 가상 문서 생성\n",
    "print(\"\\033[94m--- HyDE를 사용하여 가상 문서 생성 중 ---\\033[0m\")\n",
    "generated_hyde_doc = generate_docs_for_retrieval.invoke({\"question\":question})\n",
    "print(f\"\\033[94m------ 생성된 가상 문서 (HyDE) ---\\033[0m\\n{generated_hyde_doc}\\n\")\n",
    "\n",
    "# 2. 생성된 가상 문서를 사용하여 실제 문서 검색\n",
    "print(\"\\033[94m--- 가상 문서를 사용하여 실제 문서 검색 중 ---\\033[0m\")\n",
    "retrieved_docs = retriever.invoke(generated_hyde_doc)\n",
    "\n",
    "print(\"\"\"\\n\\033[94m--- 검색된 문서 ---\\033[0m\\n\"\"\")\n",
    "for i, doc in enumerate(retrieved_docs):\n",
    "    print(f\"문서 {i+1}:\")\n",
    "    print(f\"ID: {doc.metadata.get('id')}\")\n",
    "    print(f\"Source: {doc.metadata.get('source')}\")\n",
    "    print(f\"Content (첫 200자): {doc.page_content[:200]}...\\n\")\n",
    "\n",
    "# 2. 검색된 문서를 기반으로 최종 답변 생성\n",
    "print(\"\\033[94m--- 최종 답변 생성 중 ---\\033[0m\")\n",
    "result = final_rag_chain.invoke({\"context\":retrieved_docs,\"question\":question})\n",
    "\n",
    "print(\"\"\"\\n\n",
    "--- 최종 답변 --- \n",
    "\"\"\")\n",
    "print(result)"
   ]
  }
 ],
 "metadata": {
  "kernelspec": {
   "display_name": "base",
   "language": "python",
   "name": "python3"
  },
  "language_info": {
   "codemirror_mode": {
    "name": "ipython",
    "version": 3
   },
   "file_extension": ".py",
   "mimetype": "text/x-python",
   "name": "python",
   "nbconvert_exporter": "python",
   "pygments_lexer": "ipython3",
   "version": "3.12.3"
  }
 },
 "nbformat": 4,
 "nbformat_minor": 5
}
