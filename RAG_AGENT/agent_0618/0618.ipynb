{
 "cells": [
  {
   "cell_type": "code",
   "execution_count": 6,
   "metadata": {},
   "outputs": [
    {
     "name": "stdout",
     "output_type": "stream",
     "text": [
      "\n",
      "\n",
      "\u001b[1m> Entering new AgentExecutor chain...\u001b[0m\n",
      "\u001b[32;1m\u001b[1;3m고기를 먹기에 좋은 계절에 대한 정보를 찾기 위해 일반적인 식습관이나 계절별 음식에 대한 내용을 조사해야 할 것 같다. 특히, 고기 소비가 증가하는 계절이나 특정 고기가 제철인 시기를 알아보는 것이 중요할 것 같다. \n",
      "Action: wikipedia\n",
      "Action Input: \"고기 계절\" \u001b[0m\n",
      "Observation: \u001b[36;1m\u001b[1;3mPage: Bulgogi\n",
      "Summary: Bulgogi ( buul-GOH-ghee, UK also  BUUL-gog-ee, US also  BOOL-goh-ghee; Korean: 불고기 [puɭɡoɡi], lit. 'fire meat') is a gui (Korean-style grilled or roasted dish) made of thin, marinated slices of meat, most commonly beef, grilled on a barbecue or on a stove-top griddle. It is also often stir-fried in a pan in home cooking. Sirloin and rib eye are frequently used cuts of beef for the dish. Bulgogi is a very popular dish in South Korea, where it can be found anywhere from upscale restaurants to local supermarkets as pan-ready kits.\n",
      "\n",
      "\u001b[0m\n",
      "Thought:\u001b[32;1m\u001b[1;3m고기를 먹기에 좋은 계절에 대한 정보가 부족하다. 고기 소비와 관련된 계절적 요인이나 특정 고기의 제철에 대한 정보를 더 찾아봐야 할 것 같다. \n",
      "Action: wikipedia\n",
      "Action Input: \"고기 소비 계절\" \u001b[0m\n",
      "Observation: \u001b[36;1m\u001b[1;3mNo good Wikipedia Search Result was found\u001b[0m\n",
      "Thought:\u001b[32;1m\u001b[1;3m고기를 먹기에 좋은 계절에 대한 정보가 부족하므로, 일반적인 한국의 식문화나 계절별 음식에 대한 내용을 조사해보는 것이 좋겠다. 특히, 고기 소비가 증가하는 계절이나 특정 고기가 제철인 시기를 알아보는 것이 중요할 것 같다. \n",
      "Action: wikipedia\n",
      "Action Input: \"한국 식문화\" \u001b[0m\n",
      "Observation: \u001b[36;1m\u001b[1;3mNo good Wikipedia Search Result was found\u001b[0m\n",
      "Thought:\u001b[32;1m\u001b[1;3m고기를 먹기에 좋은 계절에 대한 정보를 찾기 위해 한국의 식문화와 계절별 음식에 대한 내용을 더 조사해야 할 것 같다. 한국에서는 보통 여름철에 바비큐와 같은 고기 요리를 많이 즐기고, 겨울철에는 따뜻한 국물 요리와 함께 고기를 소비하는 경향이 있다. 하지만 구체적인 정보를 확인하기 위해 추가적인 검색이 필요할 것 같다. \n",
      "Action: wikipedia\n",
      "Action Input: \"한국의 계절 음식\" \u001b[0m\n",
      "Observation: \u001b[36;1m\u001b[1;3mNo good Wikipedia Search Result was found\u001b[0m\n",
      "Thought:\u001b[32;1m\u001b[1;3m고기를 먹기에 좋은 계절에 대한 정보가 부족하므로, 한국의 계절별 음식 문화에 대한 일반적인 지식을 바탕으로 결론을 내릴 수 있을 것 같다. 한국에서는 여름철에 바비큐와 같은 고기 요리를 많이 즐기고, 겨울철에는 따뜻한 국물 요리와 함께 고기를 소비하는 경향이 있다. 특히, 고기 소비가 증가하는 시기는 여름과 겨울로 보인다. \n",
      "\n",
      "Final Answer: 고기를 먹기에 좋은 계절은 여름과 겨울이다.\u001b[0m\n",
      "\n",
      "\u001b[1m> Finished chain.\u001b[0m\n"
     ]
    },
    {
     "data": {
      "text/plain": [
       "{'input': '고기를 먹기에 좋은 계절은?', 'output': '고기를 먹기에 좋은 계절은 여름과 겨울이다.'}"
      ]
     },
     "execution_count": 6,
     "metadata": {},
     "output_type": "execute_result"
    }
   ],
   "source": [
    "from langchain.agents import initialize_agent, load_tools, AgentType\n",
    "from langchain_openai import ChatOpenAI\n",
    "from dotenv import load_dotenv\n",
    "import os\n",
    "\n",
    "load_dotenv()\n",
    "OPENAI_API_KEY = os.getenv(\"OPENAI_API_KEY\")\n",
    "llm = ChatOpenAI(model=\"gpt-4o-mini\", temperature=0)\n",
    "\n",
    "tools = load_tools([\"wikipedia\",\"llm-math\"], llm=llm)\n",
    "agent = initialize_agent(\n",
    "    tools,\n",
    "    llm,\n",
    "    agent=AgentType.ZERO_SHOT_REACT_DESCRIPTION,\n",
    "    handle_parsing_errors=True,\n",
    "    verbose=True)\n",
    "\n",
    "agent.invoke(\"고기를 먹기에 좋은 계절은?\")"
   ]
  },
  {
   "cell_type": "code",
   "execution_count": 8,
   "metadata": {},
   "outputs": [
    {
     "name": "stdout",
     "output_type": "stream",
     "text": [
      "\n",
      "\n",
      "\u001b[1m> Entering new AgentExecutor chain...\u001b[0m\n",
      "\u001b[32;1m\u001b[1;3m```\n",
      "Thought: Do I need to use a tool? Yes\n",
      "Action: wikipedia\n",
      "Action Input: Ed Sheeran\n",
      "```\n",
      "```\u001b[0m\n",
      "Observation: \u001b[36;1m\u001b[1;3mPage: Ed Sheeran\n",
      "Summary: Edward Christopher Sheeran ( SHEER-ən; born 17 February 1991) is an English singer-songwriter. Born in Halifax, West Yorkshire, and raised in Framlingham, Suffolk, he began writing songs around the age of eleven. In early 2011, Sheeran independently released the extended play No. 5 Collaborations Project. He signed with Asylum Records the same year.\n",
      "Sheeran's debut album, + (\"Plus\"), was released in September 2011 and topped the UK Albums Chart. It contained his first hit single, \"The A Team\". In 2012, Sheeran won the Brit Awards for Best British Male Solo Artist and British Breakthrough Act. Sheeran's second studio album, × (\"Multiply\"), topped charts around the world upon its release in June 2014. It was named the second-best-selling album worldwide of 2015. In the same year, × won Album of the Year at the 2015 Brit Awards, and he received the Ivor Novello Award for Songwriter of the Year from the British Academy of Songwriters, Composers and Authors. A single from ×, \"Thinking Out Loud\", earned him the 2016 Grammy Awards for Song of the Year and Best Pop Solo Performance.\n",
      "Sheeran's third album, ÷ (\"Divide\"), was released in March 2017, and was the best-selling album worldwide of 2017. The first two singles from the album, \"Shape of You\" and \"Castle on the Hill\", broke records in a number of countries by debuting in the top two positions of the charts. He also became the first artist to have two songs debut in the US top 10 in the same week. By March 2017, Sheeran had accumulated ten top-10 singles from ÷ on the UK Singles Chart, breaking the record for most top-10 UK singles from one album. His fourth single from ÷, \"Perfect\", reached number one in the US, Australia, and the UK, where it became the Christmas number one in 2017. The world's best-selling artist of 2017, he was named the Global Recording Artist of the Year. Released in 2019, his fourth overall and first collaborative album, No.6 Collaborations Project, debuted at number one in most major markets, and spawned three UK number one singles, \"I Don't Care\", \"Beautiful People\", and \"Take Me Back to London\". His fifth studio album, = (\"Equals\"), topped the charts in most major markets in 2021. His sixth album, - (\"Subtract\"), was released on 5 May 2023, while his seventh album, Autumn Variations, was released on 29 September 2023 under his own record label, Gingerbread Man Records.\n",
      "Sheeran has sold 200 million records worldwide, making him one of the world's best-selling music artists. He has 119 million RIAA-certified units in the US, and two of his albums are in the list of the best-selling albums in UK chart history. In December 2019, the Official Charts Company named him artist of the decade, with the most combined success in the UK album and singles charts in the 2010s. As of July 2024, he is the 3rd most followed artist on Spotify. Beginning in March 2017, his ÷ Tour became the highest-grossing of all time in August 2019. An alumnus of the National Youth Theatre in London, Sheeran's acting roles include appearing in the 2019 film Yesterday, playing himself. In 2025, Time magazine listed him as one of the world's 100 most influential people.\n",
      "\n",
      "Page: Ed Sheeran discography\n",
      "Summary: The discography of English singer-songwriter Ed Sheeran consists of seven studio albums, two compilation albums, seventeen extended plays, one video album, sixty-five singles (including twenty-eight as a featured artist), eight promotional singles, one box set, and seventy-one music videos. Sheeran has sold 200 million records worldwide, making him one of the best-selling music artists in history. According to RIAA, Sheeran is the 15th best-selling digital singles artist in the United States with certified sales of 103 million.\n",
      "Originally an indie artist selling music independently on his own label starting in 2005, Sheeran released nine EPs, steadily gaining public and critical acclaim, resulting in his signing to Atlantic Records in January 2011. Five months \u001b[0m\n",
      "Thought:\u001b[32;1m\u001b[1;3mDo I need to use a tool? No\n",
      "AI: 에드 시런(Ed Sheeran)은 1991년 2월 17일에 태어난 영국의 싱어송라이터입니다. 그는 여러 히트 앨범과 싱글을 발표하며 세계적으로 유명한 음악가가 되었습니다. 2025년 현재, 에드 시런의 나이는 34세입니다.\u001b[0m\n",
      "\n",
      "\u001b[1m> Finished chain.\u001b[0m\n"
     ]
    },
    {
     "data": {
      "text/plain": [
       "{'input': '에드 시런은 누구이며 2025년 현재 나이는 몇 살이야?',\n",
       " 'chat_history': '',\n",
       " 'output': '에드 시런(Ed Sheeran)은 1991년 2월 17일에 태어난 영국의 싱어송라이터입니다. 그는 여러 히트 앨범과 싱글을 발표하며 세계적으로 유명한 음악가가 되었습니다. 2025년 현재, 에드 시런의 나이는 34세입니다.'}"
      ]
     },
     "execution_count": 8,
     "metadata": {},
     "output_type": "execute_result"
    }
   ],
   "source": [
    "from langchain.memory import ConversationBufferMemory\n",
    "\n",
    "llm = ChatOpenAI(\n",
    "\tmodel=\"gpt-4o\",\n",
    "\ttemperature=0.3,\n",
    ")\n",
    "\n",
    "memory = ConversationBufferMemory(memory_key=\"chat_history\")\n",
    "\n",
    "conversational_agent = initialize_agent(\n",
    "    agent='conversational-react-description',\n",
    "    tools=tools,\n",
    "    llm=llm,\n",
    "    verbose=True,\n",
    "    max_iteration=3,\n",
    "    memory=memory\n",
    ")\n",
    "conversational_agent.invoke(\"에드 시런은 누구이며 2025년 현재 나이는 몇 살이야?\")"
   ]
  },
  {
   "cell_type": "code",
   "execution_count": null,
   "metadata": {},
   "outputs": [
    {
     "name": "stderr",
     "output_type": "stream",
     "text": [
      "c:\\Users\\Sese\\anaconda3\\Lib\\site-packages\\langsmith\\client.py:272: LangSmithMissingAPIKeyWarning: API key must be provided when using hosted LangSmith API\n",
      "  warnings.warn(\n"
     ]
    },
    {
     "name": "stdout",
     "output_type": "stream",
     "text": [
      "############# name\n",
      "None\n",
      "############# input_variables\n",
      "['agent_scratchpad', 'input', 'tool_names', 'tools']\n",
      "############# optional_variables\n",
      "[]\n",
      "############# input_types\n",
      "{}\n",
      "############# output_parser\n",
      "None\n",
      "############# partial_variables\n",
      "{}\n",
      "############# metadata\n",
      "{'lc_hub_owner': 'hwchase17', 'lc_hub_repo': 'react', 'lc_hub_commit_hash': 'd15fe3c426f1c4b3f37c9198853e4a86e20c425ca7f4752ec0c9b0e97ca7ea4d'}\n",
      "############# tags\n",
      "None\n",
      "############# template\n",
      "Answer the following questions as best you can. You have access to the following tools:\n",
      "\n",
      "{tools}\n",
      "\n",
      "Use the following format:\n",
      "\n",
      "Question: the input question you must answer\n",
      "Thought: you should always think about what to do\n",
      "Action: the action to take, should be one of [{tool_names}]\n",
      "Action Input: the input to the action\n",
      "Observation: the result of the action\n",
      "... (this Thought/Action/Action Input/Observation can repeat N times)\n",
      "Thought: I now know the final answer\n",
      "Final Answer: the final answer to the original input question\n",
      "\n",
      "Begin!\n",
      "\n",
      "Question: {input}\n",
      "Thought:{agent_scratchpad}\n",
      "############# template_format\n",
      "f-string\n",
      "############# validate_template\n",
      "False\n",
      "input_variables=['agent_scratchpad', 'input', 'tool_names', 'tools'] input_types={} partial_variables={} metadata={'lc_hub_owner': 'hwchase17', 'lc_hub_repo': 'react', 'lc_hub_commit_hash': 'd15fe3c426f1c4b3f37c9198853e4a86e20c425ca7f4752ec0c9b0e97ca7ea4d'} template='Answer the following questions as best you can. You have access to the following tools:\\n\\n{tools}\\n\\nUse the following format:\\n\\nQuestion: the input question you must answer\\nThought: you should always think about what to do\\nAction: the action to take, should be one of [{tool_names}]\\nAction Input: the input to the action\\nObservation: the result of the action\\n... (this Thought/Action/Action Input/Observation can repeat N times)\\nThought: I now know the final answer\\nFinal Answer: the final answer to the original input question\\n\\nBegin!\\n\\nQuestion: {input}\\nThought:{agent_scratchpad}'\n",
      "\n",
      "\n",
      "\u001b[1m> Entering new AgentExecutor chain...\u001b[0m\n",
      "\u001b[32;1m\u001b[1;3mReAct의 길이를 알아내기 위해 \"ReAct\"라는 문자열의 길이를 계산해야 합니다.\n",
      "Action: get_text_length\n",
      "Action Input: \"ReAct\"\u001b[0m\u001b[36;1m\u001b[1;3m5\u001b[0m\u001b[32;1m\u001b[1;3mI now know the final answer.\n",
      "Final Answer: ReAct의 길이는 5입니다.\u001b[0m\n",
      "\n",
      "\u001b[1m> Finished chain.\u001b[0m\n"
     ]
    },
    {
     "data": {
      "text/plain": [
       "{'input': 'ReAct의 길이는?', 'output': 'ReAct의 길이는 5입니다.'}"
      ]
     },
     "execution_count": 20,
     "metadata": {},
     "output_type": "execute_result"
    }
   ],
   "source": [
    "from langchain.tools import tool\n",
    "from langchain import hub\n",
    "from langchain.agents import AgentExecutor, create_react_agent\n",
    "\n",
    "@tool\n",
    "def get_text_length(text: str ) -> int:\n",
    "    \"\"\"주어진 문자열의 길이를 반환하는 함수\"\"\"\n",
    "    text = text.strip(\"'\\n\")\n",
    "    return len(text)\n",
    "\n",
    "tools = [get_text_length]\n",
    "\n",
    "\n",
    "\n",
    "\n",
    "prompt = hub.pull(\"hwchase17/react\")\n",
    "for i in prompt:\n",
    "    print('#############', i[0])\n",
    "    print(i[1])\n",
    "\n",
    "print(prompt)\n",
    "agent = create_react_agent(\n",
    "    llm,\n",
    "    tools,\n",
    "    prompt\n",
    ")\n",
    "\n",
    "agent_executor = AgentExecutor(\n",
    "    agent = agent,\n",
    "    tools=tools,\n",
    "    verbose=True\n",
    ")\n",
    "\n",
    "agent_executor.invoke({\"input\": \"ReAct의 길이는?\"})"
   ]
  },
  {
   "cell_type": "code",
   "execution_count": 28,
   "metadata": {},
   "outputs": [
    {
     "name": "stderr",
     "output_type": "stream",
     "text": [
      "c:\\Users\\Sese\\anaconda3\\Lib\\site-packages\\langsmith\\client.py:272: LangSmithMissingAPIKeyWarning: API key must be provided when using hosted LangSmith API\n",
      "  warnings.warn(\n"
     ]
    },
    {
     "name": "stdout",
     "output_type": "stream",
     "text": [
      "\n",
      "\n",
      "\u001b[1m> Entering new AgentExecutor chain...\u001b[0m\n",
      "\u001b[32;1m\u001b[1;3mTo find the FeNa, I need to use the given values in the formula: FeNa (%) = (Urine_Na × Plasma_Cr) / (Plasma_Na × Urine_Cr) × 100. I will input these values into the calculation tool.\n",
      "\n",
      "Action: calculate_fena\n",
      "Action Input: \"urine_na=20, plasma_na=140, urine_cr=50, plasma_cr=2\"\u001b[0m\u001b[36;1m\u001b[1;3m0.57\u001b[0m\u001b[32;1m\u001b[1;3mI now know the final answer.\n",
      "\n",
      "Final Answer: 소변 나트륨이 20, 혈장 나트륨이 140, 소변 크레아티닌이 50, 혈청 크레아티닌이 2일 때 FeNa는 0.57%입니다.\u001b[0m\n",
      "\n",
      "\u001b[1m> Finished chain.\u001b[0m\n",
      "################## input\n",
      "소변 나트륨은 20, 혈장 나트륨은 140, 소변 크레아티닌은 50, 혈청 크레아티닌은 2일 때 FeNa는?\n",
      "################## output\n",
      "소변 나트륨이 20, 혈장 나트륨이 140, 소변 크레아티닌이 50, 혈청 크레아티닌이 2일 때 FeNa는 0.57%입니다.\n"
     ]
    }
   ],
   "source": [
    "from langchain.tools import tool\n",
    "from langchain import hub\n",
    "from langchain.agents import AgentExecutor, create_react_agent\n",
    "\n",
    "from langchain.tools import tool\n",
    "\n",
    "@tool\n",
    "def calculate_fena(input_str: str) -> float:\n",
    "    \"\"\"\n",
    "    FeNa (%) = (Urine_Na × Plasma_Cr) / (Plasma_Na × Urine_Cr) × 100\n",
    "    \n",
    "    input_str는 다음과 같은 형식이어야 합니다:\n",
    "    \"urine_na=20, plasma_na=140, urine_cr=50, plasma_cr=2\"\n",
    "    \"\"\"\n",
    "    try:\n",
    "        parts = dict(\n",
    "            item.strip().split(\"=\")\n",
    "            for item in input_str.split(\",\")\n",
    "        )\n",
    "        urine_na = float(parts[\"urine_na\"])\n",
    "        plasma_na = float(parts[\"plasma_na\"])\n",
    "        urine_cr = float(parts[\"urine_cr\"])\n",
    "        plasma_cr = float(parts[\"plasma_cr\"])\n",
    "        \n",
    "        fena = (urine_na * plasma_cr) / (plasma_na * urine_cr) * 100\n",
    "        return round(fena, 2)\n",
    "    except Exception as e:\n",
    "        return -1.0  # 실패 시 -1 반환\n",
    "\n",
    "tools=[calculate_fena]\n",
    "\n",
    "\n",
    "\n",
    "prompt = hub.pull(\"hwchase17/react\")\n",
    "\n",
    "agent = create_react_agent(\n",
    "    llm,\n",
    "    tools,\n",
    "    prompt\n",
    ")\n",
    "\n",
    "agent_executor = AgentExecutor(\n",
    "    agent = agent,\n",
    "    tools=tools,\n",
    "    verbose=True\n",
    ")\n",
    "\n",
    "response = agent_executor.invoke({\n",
    "    \"input\": \"소변 나트륨은 20, 혈장 나트륨은 140, 소변 크레아티닌은 50, 혈청 크레아티닌은 2일 때 FeNa는?\"\n",
    "})\n",
    "\n",
    "\n",
    "for i,x in response.items():\n",
    "    print(f\"################## {i}\")\n",
    "    print(x)"
   ]
  }
 ],
 "metadata": {
  "kernelspec": {
   "display_name": "base",
   "language": "python",
   "name": "python3"
  },
  "language_info": {
   "codemirror_mode": {
    "name": "ipython",
    "version": 3
   },
   "file_extension": ".py",
   "mimetype": "text/x-python",
   "name": "python",
   "nbconvert_exporter": "python",
   "pygments_lexer": "ipython3",
   "version": "3.12.3"
  }
 },
 "nbformat": 4,
 "nbformat_minor": 2
}
