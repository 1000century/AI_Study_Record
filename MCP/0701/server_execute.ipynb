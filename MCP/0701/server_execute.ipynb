{
 "cells": [
  {
   "cell_type": "code",
   "execution_count": 7,
   "id": "0ebe149f",
   "metadata": {},
   "outputs": [
    {
     "data": {
      "text/plain": [
       "True"
      ]
     },
     "execution_count": 7,
     "metadata": {},
     "output_type": "execute_result"
    }
   ],
   "source": [
    "from dotenv import load_dotenv\n",
    "load_dotenv()\n"
   ]
  },
  {
   "cell_type": "code",
   "execution_count": 8,
   "id": "ccf8843f",
   "metadata": {},
   "outputs": [
    {
     "data": {
      "text/plain": [
       "'1. 개요[편집]\\n대한민국 국적의 토트넘 홋스퍼 FC 소속 축구 선수. 주 포지션은 윙어. 현재 소속팀과 국가대표팀의 주장을 맡고 있다.\\n\\n프리미어 리그와 챔피언스 리그에서 아시아 선수 역대 최다 득점자로 기록되어 있으며, 토트넘 홋스퍼 FC 구단 역사상 최다 도움 기록 보유자이다. 발롱도르 후보[25]와 국제 축구선수 협회 FIFPro 월드 XI 후보[26]에도 이름을 올렸으며, 프리미어 리그에서 아시아 선수로써는 최초로 득점왕[27]에 올랐고, FA컵에서도 득점왕[28]을 차지하였다. 또한, 아시아 선수 최초로 PFA 올해의 팀[29]에 선정되기도 하였다.\\n\\n이 외에도, 아시아 선수 최초 프리미어 리그 통산 100호 골과 개인 통산 200호 골을 달성하였고, 한국인 최초로 푸스카스상을 수상했다. 또한, EPL에서 최다 콤비네이션 득점[30]을 기록했고, UEFA 주관 클럽 대항전에서 주장으로서 UEL 우승 트로피를 들어올렸다.\\n2. 생애[편집]\\n2009년 U-17 국가대표팀을 거치고, 2010년 함부르크 SV와 4년 계약과 함께 역대 최고 수준의 초특급 유망주라는 수식어와 함께 해외에서도 상당한 주목을 받았다. 그리고 2010년 10월 30일, 18세에 치른 데뷔전에서 데뷔골[31]을 장식하면서 새로운 스타 탄생을 예고했다. 이후 분데스리가 전반기 최고의 데뷔, FIFA 선정 세계 최고 10대 유망주 23인 등에 뽑히고, 분데스리가 명문 구단 바이어 04 레버쿠젠으로 구단 역대 최고 이적료 기록을 경신[32]하면서 이적하는 등, 한국에서는 쉽게 볼 수 없는 차세대 태극전사의 에이스로서 전 세계의 언론으로부터 주목을 받기 시작했다.\\n\\n그리고 2015년 8월 28일, 이적료 3,000만 유로 / 2,200만 파운드(한화 약 408억 원)를 기록하며 프리미어 리그의 토트넘 홋스퍼 FC와 5년 계약을 확정하면서 아시아 출신 축구 선수 중에서 역대 최고 이적료 기록을 경신했다. #[33] 또한, 아시아 역대 축구 선수 선수 가치 1위를 기록했고[34], 9000만 유로까지 선수 가치가 높은 선수였다.[35]\\n\\n이처럼 엄청난 활약으로 이른 나이에 국가대표팀에 뽑혀 18세에 A매치 데뷔골을 터뜨렸으며[36], 이후 2014 FIFA 월드컵 브라질에서 월드컵 데뷔골을 넣고 2015 AFC 아시안컵 호주에서 3골을 넣는 등 에이스로 활약하며 준우승까지 이끌었고 대회 베스트 11에 선정되었다. 또한 2018 FIFA 월드컵 러시아 멕시코전과 독일전에 연속 골[37]을 넣으며 두 대회 만에 한국인 월드컵 공동 최다 득점 기록을 보유하게 되었다.[38] 이후 2018 자카르타·팔렘방 아시안 게임 남자 축구 주장을 맡아 금메달을 이끌었으며 이 활약으로 A대표팀에서도 주장으로 선임되었다. 특히, 러시아 월드컵 독일전에 주장 완장을 차고 넣은 골과 아시안 게임 금메달은 한국 축구의 새로운 부흥기가 되는 데 큰 역할을 했으며 이 중심에는 손흥민이 있었고 KFA 올해의 선수 6회 수상으로 최다 수상자에 이름을 올리고 있으며 2022년 6월 대한민국 역대 14번째 선수로 센추리 클럽에 가입했다. 그리고 2022 FIFA 월드컵 카타르 국가대표팀 주장을 맡아 좋은 리더십을 보여주며 대한민국 축구 역대 3번째이자 원정 2번째로 16강이라는 대기록을 이끌었다.\\n\\n개인 기록으로 봐도 프리미어 리그 득점왕,[39] 발롱도르 후보[40], FIFPro 월드 XI 55인 후보[41], PFA 올해의 팀 선정[42], 프리미어 리그 이달의 선수 4회 수상[43], 아시아인 최초 유럽 빅리그 100골 돌파, 프리미어 리그와 UEFA 챔피언스 리그 아시아 국적 선수 최다 골·최다 어시스트 등을 달성했다.\\n\\n또한 분데스리가에서 해트트릭 2회, UEFA 챔피언스 리그 결승전 선발 출전, 프리미어 리그에서 1경기 4골을 포함한 해트트릭 4회, 5경기 연속 득점, 70M 드리블 골로 프리미어 리그 올해의 골과 FIFA 푸스카스상을 수상하는 등 전례가 없는 업적과 장면들을 계속 만들어가고 있는 중이다. 그리고 2022-23 시즌 두 자릿수 득점에 성공하면서 유럽 빅리그[44]에서 10시즌 동안 두 자릿수 득점을 기록한 선수가 되었고 토트넘 통산 100골을 돌파한 최초의 비영국인 선수가 되었다. 또한 2021-2022 시즌에는 리그에서만 페널티킥을 제외하고 23골을 넣으면서 프리미어 리그 득점왕을 차지하는 등 아시아 축구 역사에서 최초, 최고, 최다의 기록을 만들어 가는 중이다.[45]\\n\\n이러한 손흥민이 보여주는 득점력의 비결은 순도가 높은 골 결정력인데, 실제로 2016/17 시즌부터 2021년 8월 16일까지 집계한 통계에 따르면, 5대 리그에서 골 결정력이 가장 좋은 선수이다.[46]\\n\\n그로 인해, 세계적인 축구게임 FIFA 22에서 아시아 역대 피파 오버롤 1위를 달성했다. 손흥민은 FIFA 21에서 이미 87이라는 오버롤을 받으며, 아시아 역대 피파 오버롤 1위를 달성한 적이 있다. 2021년 9월 14일에 공개된 FIFA 22 오버롤에서 작년에 받은 87에서 더 상승한 89라는 압도적인 오버롤을 받았으며, 결국 손흥민은 FIFA 22 오버롤 TOP22에 선정되었다.[47] 따라서, 피파 오버롤로 봤을 때 호날두를 원톱 자원으로 분류한다면, 네이마르 주니오르에 이어 왼쪽 윙에서 2번째로 높은 오버롤을 기록했다.\\n\\n대한민국에선 단순히 축구 선수가 아닌 대한민국 스포츠를 대표하는 스포츠 스타이다. 1990년대 말 외환 위기 시기 국민들의 희망이 되어준 박찬호, 박세리 이후 2020년 코로나 시기에 국민들에게 기쁨을 주고 있다. 2010년대 중반~2020년대 대한민국을 상징하는 스포츠 영웅 중 한 명이자 한국 축구의 아이콘, 나아가서 대한민국을 대표하는 셀럽 같은 존재로 자리매김했다.[48]\\n2.1. 프로 데뷔 이전[편집]\\n강원도 춘천시에서 태어났다.[49] 손흥민이 어린 나이부터 현재까지 이러한 엄청난 위업을 보여줄 수 있었던 여러 이유 중 가장 핵심은 그의 아버지 손웅정의 경험과 그에 따른 학습 훈련에 있다. 현재 Son 아카데미를 운영하고 있는 손웅정은 젊어서 축구 선수로 활약했으나,[50] 1994년 아킬레스건 부상으로 인해 선수 생활을 일찍 마감하게 되었고, 그 후 스페인, 독일, 브라질 등을 돌아다니면서 각국의 유소년 축구를 접했다.\\n\\n지도자 생활을 시작한 손웅정은 춘천 FC를 창설했고, 승리에 목숨을 거는 축구가 아닌 \\'즐기는\\' 축구를 모토로 자기 자식들을 가르치기 시작했다. 특히, 차남 손흥민은 축구 선수 지망생들이 다니는 축구 교실을 안 가고 아버지의 개인 교습을 받으면서 초등학교 시절부터 직접 개인기와 탄탄한 기본기를 차근차근 익혔다. 기본기를 다지기 위해 혹독한 훈련도 마다치 않았다고 한다. 인터뷰에 따르면 공을 자유자재로 다룰 수 있을 때까지 패스나 여타 다른 기술들을 가르치지 않았다고 한다.[51]\\n\"나는 측면 공격수로 뛰는 프로선수였지만 선수 한 명 재낄 발기술이나 개인기가 전혀 없었다. 나 자신에게 굉장히 부끄럽고 후회가 됐다. 그렇기에 흥민이에게는 기본적으로 공을 다룰 수 있을 때까지 기본기만 가르쳤다.\"\\n손웅정\\n한국 유소년 축구 시스템은 미국과 같은 초등학교-중학교-고등학교-대학교로 이어지게 되는 진학 시스템이다. 이로 인해, 이 시스템에서 좋은 커리어를 지니려고 한다면 결국 눈에 보이는 성과 같은 우승 타이틀을 손에 넣는 수밖에 없다.[52] 하지만, 손흥민의 경우는 이 시스템 자체를 벗어나 있었기에 지금과 같은 재능을 꽃피울 수 있었다고 할 수 있다.[53]\\n\\n다만, 열린 교육에 대한 불필요한 환상은 금물이다. 다시 한번 강조하지만, 손웅정은 축구 강국들의 유소년 축구 시스템을 충분히 벤치마킹하고 이런 결론을 내린 것이다. 현재 대한민국에 널리 보급된 유소년 축구 시스템은 이런 즐기는 축구를 추구하고 있다.[54]\\n\\n또한, 간과해서는 안 될 점은 아버지 손웅정의 엄청난 희생과 열정이 들어있었다는 점이다. 이렇게 손흥민을 키워낸 열린 교육은 결코 공짜가 아니며, 그에 필요한 재원을 마련하기 위해서 아버지 손웅정은 모든 힘과 시간을 투자해야 했다. 그리고, 축구 실력적인 부분을 떠나서 스포츠맨으로서 보여주는 올바른 자세와 인성적인 부분에 있어서도 참된 교육을 아끼지 않았다.[55]\\n'"
      ]
     },
     "metadata": {},
     "output_type": "display_data"
    }
   ],
   "source": [
    "text = \"\"\"1. 개요[편집]\n",
    "대한민국 국적의 토트넘 홋스퍼 FC 소속 축구 선수. 주 포지션은 윙어. 현재 소속팀과 국가대표팀의 주장을 맡고 있다.\n",
    "\n",
    "프리미어 리그와 챔피언스 리그에서 아시아 선수 역대 최다 득점자로 기록되어 있으며, 토트넘 홋스퍼 FC 구단 역사상 최다 도움 기록 보유자이다. 발롱도르 후보[25]와 국제 축구선수 협회 FIFPro 월드 XI 후보[26]에도 이름을 올렸으며, 프리미어 리그에서 아시아 선수로써는 최초로 득점왕[27]에 올랐고, FA컵에서도 득점왕[28]을 차지하였다. 또한, 아시아 선수 최초로 PFA 올해의 팀[29]에 선정되기도 하였다.\n",
    "\n",
    "이 외에도, 아시아 선수 최초 프리미어 리그 통산 100호 골과 개인 통산 200호 골을 달성하였고, 한국인 최초로 푸스카스상을 수상했다. 또한, EPL에서 최다 콤비네이션 득점[30]을 기록했고, UEFA 주관 클럽 대항전에서 주장으로서 UEL 우승 트로피를 들어올렸다.\n",
    "2. 생애[편집]\n",
    "2009년 U-17 국가대표팀을 거치고, 2010년 함부르크 SV와 4년 계약과 함께 역대 최고 수준의 초특급 유망주라는 수식어와 함께 해외에서도 상당한 주목을 받았다. 그리고 2010년 10월 30일, 18세에 치른 데뷔전에서 데뷔골[31]을 장식하면서 새로운 스타 탄생을 예고했다. 이후 분데스리가 전반기 최고의 데뷔, FIFA 선정 세계 최고 10대 유망주 23인 등에 뽑히고, 분데스리가 명문 구단 바이어 04 레버쿠젠으로 구단 역대 최고 이적료 기록을 경신[32]하면서 이적하는 등, 한국에서는 쉽게 볼 수 없는 차세대 태극전사의 에이스로서 전 세계의 언론으로부터 주목을 받기 시작했다.\n",
    "\n",
    "그리고 2015년 8월 28일, 이적료 3,000만 유로 / 2,200만 파운드(한화 약 408억 원)를 기록하며 프리미어 리그의 토트넘 홋스퍼 FC와 5년 계약을 확정하면서 아시아 출신 축구 선수 중에서 역대 최고 이적료 기록을 경신했다. #[33] 또한, 아시아 역대 축구 선수 선수 가치 1위를 기록했고[34], 9000만 유로까지 선수 가치가 높은 선수였다.[35]\n",
    "\n",
    "이처럼 엄청난 활약으로 이른 나이에 국가대표팀에 뽑혀 18세에 A매치 데뷔골을 터뜨렸으며[36], 이후 2014 FIFA 월드컵 브라질에서 월드컵 데뷔골을 넣고 2015 AFC 아시안컵 호주에서 3골을 넣는 등 에이스로 활약하며 준우승까지 이끌었고 대회 베스트 11에 선정되었다. 또한 2018 FIFA 월드컵 러시아 멕시코전과 독일전에 연속 골[37]을 넣으며 두 대회 만에 한국인 월드컵 공동 최다 득점 기록을 보유하게 되었다.[38] 이후 2018 자카르타·팔렘방 아시안 게임 남자 축구 주장을 맡아 금메달을 이끌었으며 이 활약으로 A대표팀에서도 주장으로 선임되었다. 특히, 러시아 월드컵 독일전에 주장 완장을 차고 넣은 골과 아시안 게임 금메달은 한국 축구의 새로운 부흥기가 되는 데 큰 역할을 했으며 이 중심에는 손흥민이 있었고 KFA 올해의 선수 6회 수상으로 최다 수상자에 이름을 올리고 있으며 2022년 6월 대한민국 역대 14번째 선수로 센추리 클럽에 가입했다. 그리고 2022 FIFA 월드컵 카타르 국가대표팀 주장을 맡아 좋은 리더십을 보여주며 대한민국 축구 역대 3번째이자 원정 2번째로 16강이라는 대기록을 이끌었다.\n",
    "\n",
    "개인 기록으로 봐도 프리미어 리그 득점왕,[39] 발롱도르 후보[40], FIFPro 월드 XI 55인 후보[41], PFA 올해의 팀 선정[42], 프리미어 리그 이달의 선수 4회 수상[43], 아시아인 최초 유럽 빅리그 100골 돌파, 프리미어 리그와 UEFA 챔피언스 리그 아시아 국적 선수 최다 골·최다 어시스트 등을 달성했다.\n",
    "\n",
    "또한 분데스리가에서 해트트릭 2회, UEFA 챔피언스 리그 결승전 선발 출전, 프리미어 리그에서 1경기 4골을 포함한 해트트릭 4회, 5경기 연속 득점, 70M 드리블 골로 프리미어 리그 올해의 골과 FIFA 푸스카스상을 수상하는 등 전례가 없는 업적과 장면들을 계속 만들어가고 있는 중이다. 그리고 2022-23 시즌 두 자릿수 득점에 성공하면서 유럽 빅리그[44]에서 10시즌 동안 두 자릿수 득점을 기록한 선수가 되었고 토트넘 통산 100골을 돌파한 최초의 비영국인 선수가 되었다. 또한 2021-2022 시즌에는 리그에서만 페널티킥을 제외하고 23골을 넣으면서 프리미어 리그 득점왕을 차지하는 등 아시아 축구 역사에서 최초, 최고, 최다의 기록을 만들어 가는 중이다.[45]\n",
    "\n",
    "이러한 손흥민이 보여주는 득점력의 비결은 순도가 높은 골 결정력인데, 실제로 2016/17 시즌부터 2021년 8월 16일까지 집계한 통계에 따르면, 5대 리그에서 골 결정력이 가장 좋은 선수이다.[46]\n",
    "\n",
    "그로 인해, 세계적인 축구게임 FIFA 22에서 아시아 역대 피파 오버롤 1위를 달성했다. 손흥민은 FIFA 21에서 이미 87이라는 오버롤을 받으며, 아시아 역대 피파 오버롤 1위를 달성한 적이 있다. 2021년 9월 14일에 공개된 FIFA 22 오버롤에서 작년에 받은 87에서 더 상승한 89라는 압도적인 오버롤을 받았으며, 결국 손흥민은 FIFA 22 오버롤 TOP22에 선정되었다.[47] 따라서, 피파 오버롤로 봤을 때 호날두를 원톱 자원으로 분류한다면, 네이마르 주니오르에 이어 왼쪽 윙에서 2번째로 높은 오버롤을 기록했다.\n",
    "\n",
    "대한민국에선 단순히 축구 선수가 아닌 대한민국 스포츠를 대표하는 스포츠 스타이다. 1990년대 말 외환 위기 시기 국민들의 희망이 되어준 박찬호, 박세리 이후 2020년 코로나 시기에 국민들에게 기쁨을 주고 있다. 2010년대 중반~2020년대 대한민국을 상징하는 스포츠 영웅 중 한 명이자 한국 축구의 아이콘, 나아가서 대한민국을 대표하는 셀럽 같은 존재로 자리매김했다.[48]\n",
    "2.1. 프로 데뷔 이전[편집]\n",
    "강원도 춘천시에서 태어났다.[49] 손흥민이 어린 나이부터 현재까지 이러한 엄청난 위업을 보여줄 수 있었던 여러 이유 중 가장 핵심은 그의 아버지 손웅정의 경험과 그에 따른 학습 훈련에 있다. 현재 Son 아카데미를 운영하고 있는 손웅정은 젊어서 축구 선수로 활약했으나,[50] 1994년 아킬레스건 부상으로 인해 선수 생활을 일찍 마감하게 되었고, 그 후 스페인, 독일, 브라질 등을 돌아다니면서 각국의 유소년 축구를 접했다.\n",
    "\n",
    "지도자 생활을 시작한 손웅정은 춘천 FC를 창설했고, 승리에 목숨을 거는 축구가 아닌 '즐기는' 축구를 모토로 자기 자식들을 가르치기 시작했다. 특히, 차남 손흥민은 축구 선수 지망생들이 다니는 축구 교실을 안 가고 아버지의 개인 교습을 받으면서 초등학교 시절부터 직접 개인기와 탄탄한 기본기를 차근차근 익혔다. 기본기를 다지기 위해 혹독한 훈련도 마다치 않았다고 한다. 인터뷰에 따르면 공을 자유자재로 다룰 수 있을 때까지 패스나 여타 다른 기술들을 가르치지 않았다고 한다.[51]\n",
    "\"나는 측면 공격수로 뛰는 프로선수였지만 선수 한 명 재낄 발기술이나 개인기가 전혀 없었다. 나 자신에게 굉장히 부끄럽고 후회가 됐다. 그렇기에 흥민이에게는 기본적으로 공을 다룰 수 있을 때까지 기본기만 가르쳤다.\"\n",
    "손웅정\n",
    "한국 유소년 축구 시스템은 미국과 같은 초등학교-중학교-고등학교-대학교로 이어지게 되는 진학 시스템이다. 이로 인해, 이 시스템에서 좋은 커리어를 지니려고 한다면 결국 눈에 보이는 성과 같은 우승 타이틀을 손에 넣는 수밖에 없다.[52] 하지만, 손흥민의 경우는 이 시스템 자체를 벗어나 있었기에 지금과 같은 재능을 꽃피울 수 있었다고 할 수 있다.[53]\n",
    "\n",
    "다만, 열린 교육에 대한 불필요한 환상은 금물이다. 다시 한번 강조하지만, 손웅정은 축구 강국들의 유소년 축구 시스템을 충분히 벤치마킹하고 이런 결론을 내린 것이다. 현재 대한민국에 널리 보급된 유소년 축구 시스템은 이런 즐기는 축구를 추구하고 있다.[54]\n",
    "\n",
    "또한, 간과해서는 안 될 점은 아버지 손웅정의 엄청난 희생과 열정이 들어있었다는 점이다. 이렇게 손흥민을 키워낸 열린 교육은 결코 공짜가 아니며, 그에 필요한 재원을 마련하기 위해서 아버지 손웅정은 모든 힘과 시간을 투자해야 했다. 그리고, 축구 실력적인 부분을 떠나서 스포츠맨으로서 보여주는 올바른 자세와 인성적인 부분에 있어서도 참된 교육을 아끼지 않았다.[55]\n",
    "\"\"\"\n",
    "display(text)"
   ]
  },
  {
   "cell_type": "code",
   "execution_count": 14,
   "id": "2f254ca8",
   "metadata": {},
   "outputs": [
    {
     "name": "stdout",
     "output_type": "stream",
     "text": [
      "\n",
      "\n",
      "🔵 명령어: npx\n",
      "🔵 프롬프트(500자만): 쓸 수 있는 툴을 사용해서 1. 개요[편집]\n",
      "대한민국 국적의 토트넘 홋스퍼 FC 소속 축구 선수. 주 포지션은 윙어. 현재 소속팀과 국가대표팀의 주장을 맡고 있다.\n",
      "\n",
      "프리미어 리그와 챔피언스 리그에서 아시아 선수 역대 최다 득점자로 기록되어 있으며, 토트넘 홋스퍼 FC 구단 역사상 최다 도움 기록 보유자이다. 발롱도르 후보[25]와 국제 축구선수 협회 FIFPro 월드 XI 후보[26]에도 이름을 올렸으며, 프리미어 리그에서 아시아 선수로써는 최초로 득점왕[27]에 올랐고, FA컵에서도 득점왕[28]을 차지하였다. 또한, 아시아 선수 최초로 PFA 올해의 팀[29]에 선정되기도 하였다.\n",
      "\n",
      "이 외에도, 아시아 선수 최초 프리미어 리그 통산 100호 골과 개인 통산 200호 골을 달성하였고, 한국인 최초로 푸스카스상을 수상했다. 또한, EPL에서 최다 콤비네이션 득점[30]을 기록했고, UEFA 주관 클럽 대항전에서 주장으로서 UEL 우승 트로피를 들어올렸다.\n",
      "2. 생애[편집]\n",
      "2009\n",
      "🔵 MCP의 환경 변수: {'MARKMAP_DIR': 'C:\\\\Users\\\\Sese\\\\AI_Study_Record\\\\MCP\\\\0701'}\n",
      "🔵 MCP의 인자 목록: ['-y', '@jinzcdev/markmap-mcp-server']\n",
      "command='npx' args=['-y', '@jinzcdev/markmap-mcp-server'] env={'MARKMAP_DIR': 'C:\\\\Users\\\\Sese\\\\AI_Study_Record\\\\MCP\\\\0701'} cwd=None encoding='utf-8' encoding_error_handler='strict'\n",
      "MCP server is running...\n",
      "name='markdown_to_mindmap' description='Convert a Markdown document into an interactive mind map' args_schema={'type': 'object', 'properties': {'markdown': {'type': 'string', 'description': 'Markdown content to convert into a mind map'}, 'open': {'type': 'boolean', 'default': False, 'description': 'Whether to open the generated mind map in a browser (default: false)'}}, 'required': ['markdown'], 'additionalProperties': False, '$schema': 'http://json-schema.org/draft-07/schema#'} response_format='content_and_artifact' coroutine=<function convert_mcp_tool_to_langchain_tool.<locals>.call_tool at 0x00000189910A91C0>\n",
      "\n",
      "==================================================\n",
      "🔄 Node: \u001b[1;36magent\u001b[0m 🔄\n",
      "- - - - - - - - - - - - - - - - - - - - - - - - - \n",
      "\n",
      "==================================================\n",
      "🔄 Node: \u001b[1;36mtools\u001b[0m 🔄\n",
      "- - - - - - - - - - - - - - - - - - - - - - - - - \n",
      "{\"filePath\":\"C:\\\\Users\\\\Sese\\\\AI_Study_Record\\\\MCP\\\\0701\\\\markmap-1751374496460.html\"}\n",
      "==================================================\n",
      "🔄 Node: \u001b[1;36magent\u001b[0m 🔄\n",
      "- - - - - - - - - - - - - - - - - - - - - - - - - \n",
      "마인드맵이 생성되었습니다.\n",
      "\n",
      "🔵 결과:\n",
      "{'node': 'agent', 'content': AIMessageChunk(content='마인드맵이 생성되었습니다.', additional_kwargs={}, response_metadata={'finish_reason': 'STOP', 'model_name': 'gemini-2.5-pro', 'safety_ratings': []}, id='run--5b028f91-78ac-46f8-a8fb-2dea98974288', usage_metadata={'input_tokens': 3558, 'output_tokens': 8, 'total_tokens': 4369, 'input_token_details': {'cache_read': 0}, 'output_token_details': {'reasoning': 803}}), 'metadata': {'langgraph_step': 3, 'langgraph_node': 'agent', 'langgraph_triggers': ('branch:to:agent',), 'langgraph_path': ('__pregel_pull', 'agent'), 'langgraph_checkpoint_ns': 'agent:819523f3-e5fa-0e1b-f62e-593d4aeed7a9', 'checkpoint_ns': 'agent:819523f3-e5fa-0e1b-f62e-593d4aeed7a9', 'ls_provider': 'google_genai', 'ls_model_name': 'gemini-2.5-pro', 'ls_model_type': 'chat', 'ls_temperature': 0.7, 'LANGSMITH_ENDPOINT': 'https://api.smith.langchain.com', 'LANGSMITH_PROJECT': '250621_langgraph', 'LANGSMITH_TRACING_V2': 'true', 'revision_id': '93adae4-dirty'}}\n",
      "\n",
      "\u001b[91m[출력된 에러들]\u001b[0m\n",
      "\u001b[91m[stderr]\u001b[0m Key 'additionalProperties' is not supported in schema, ignoring\n",
      "\u001b[91m[stderr]\u001b[0m Key '$schema' is not supported in schema, ignoring\n",
      "\u001b[91m[stderr]\u001b[0m Key 'additionalProperties' is not supported in schema, ignoring\n",
      "\u001b[91m[stderr]\u001b[0m Key '$schema' is not supported in schema, ignoring\n"
     ]
    }
   ],
   "source": [
    "import subprocess\n",
    "import json\n",
    "import os\n",
    "\n",
    "command = \"npx\"\n",
    "args =  [\"-y\", \"@jinzcdev/markmap-mcp-server\"]\n",
    "env_vars = {\n",
    "    \"MARKMAP_DIR\": r\"C:\\Users\\Sese\\AI_Study_Record\\MCP\\0701\"\n",
    "}\n",
    "env_json = json.dumps(env_vars)\n",
    "\n",
    "prompt = f\"쓸 수 있는 툴을 사용해서 {text}를 마인드맵으로 바꿔줘.\"\n",
    "\n",
    "\n",
    "\n",
    "subprocess_args = [\n",
    "    \"python\", \"stdio_client.py\",\n",
    "    command, *args, prompt, \"--env\", env_json\n",
    "]\n",
    "\n",
    "# 실시간으로 subprocess 출력 받아오기\n",
    "# 이때, subprocess.Popen의 인자로 env를 지정하지 않으면 자동으로 상속된다.\n",
    "with subprocess.Popen(\n",
    "    subprocess_args,\n",
    "    stdout=subprocess.PIPE,\n",
    "    stderr=subprocess.PIPE,\n",
    "    text=True,\n",
    "    encoding=\"utf-8\",\n",
    ") as proc:\n",
    "    stdout_lines = []\n",
    "    stderr_lines = []\n",
    "\n",
    "    # stdout \n",
    "    for line in proc.stdout:\n",
    "        print(line, end=\"\")\n",
    "        stdout_lines.append(line)\n",
    "\n",
    "    # stderr\n",
    "    if proc.stderr:\n",
    "        print(\"\\n\\033[91m[출력된 에러들]\\033[0m\")\n",
    "    for err_line in proc.stderr:\n",
    "        print(f\"\\033[91m[stderr]\\033[0m {err_line}\", end=\"\")  # 빨간색으로 표시 (선택)\n",
    "        stderr_lines.append(err_line)\n",
    "\n",
    "    proc.wait()\n",
    "\n",
    "    final_output = \"\".join(stdout_lines)\n",
    "    error_output = \"\".join(stderr_lines)"
   ]
  },
  {
   "cell_type": "markdown",
   "id": "e8ddb8f7",
   "metadata": {},
   "source": [
    "### 확인\n",
    "- ipynb에서 띄우기 위해 셀레니움으로 열었다."
   ]
  },
  {
   "cell_type": "code",
   "execution_count": 10,
   "id": "3b22271e",
   "metadata": {},
   "outputs": [],
   "source": [
    "html_path = r\"file:///C:/Users/Sese/AI_Study_Record/MCP/0701/markmap-1751361040110.html\""
   ]
  },
  {
   "cell_type": "code",
   "execution_count": 11,
   "id": "7c201afe",
   "metadata": {},
   "outputs": [
    {
     "name": "stdout",
     "output_type": "stream",
     "text": [
      "✅ 이미지 저장 완료: c:\\Users\\Sese\\AI_Study_Record\\MCP\\0701\\output.png\n",
      "❌ 오류 발생: name 'Image' is not defined\n"
     ]
    }
   ],
   "source": [
    "from IPython.display import display, HTML\n",
    "from selenium import webdriver\n",
    "from selenium.webdriver.chrome.options import Options\n",
    "from selenium.webdriver.common.by import By\n",
    "from selenium.webdriver.support.ui import WebDriverWait\n",
    "from selenium.webdriver.support import expected_conditions as EC\n",
    "import os\n",
    "\n",
    "# 1. Headless Chrome 설정\n",
    "options = Options()\n",
    "options.add_argument('--headless')\n",
    "options.add_argument('--disable-gpu')\n",
    "options.add_argument('--window-size=1920,1080')\n",
    "\n",
    "# 2. 드라이버 시작\n",
    "driver = webdriver.Chrome(options=options)\n",
    "\n",
    "# 3. 로컬 HTML 파일 경로\n",
    "driver.get(html_path)\n",
    "\n",
    "try:\n",
    "    # 4. SVG 요소가 나타날 때까지 최대 10초 대기\n",
    "    svg_element = WebDriverWait(driver, 10).until(\n",
    "        EC.presence_of_element_located((By.CSS_SELECTOR, \"svg#mindmap\"))\n",
    "    )\n",
    "\n",
    "    # 5. 스크린샷 저장\n",
    "    screenshot_path = os.path.abspath(\"output.png\")\n",
    "    svg_element.screenshot(screenshot_path)\n",
    "    print(f\"✅ 이미지 저장 완료: {screenshot_path}\")\n",
    "    display(Image(filename=screenshot_path))\n",
    "\n",
    "except Exception as e:\n",
    "    print(\"❌ 오류 발생:\", e)\n",
    "\n",
    "finally:\n",
    "    driver.quit()\n"
   ]
  }
 ],
 "metadata": {
  "kernelspec": {
   "display_name": "base",
   "language": "python",
   "name": "python3"
  },
  "language_info": {
   "codemirror_mode": {
    "name": "ipython",
    "version": 3
   },
   "file_extension": ".py",
   "mimetype": "text/x-python",
   "name": "python",
   "nbconvert_exporter": "python",
   "pygments_lexer": "ipython3",
   "version": "3.12.3"
  }
 },
 "nbformat": 4,
 "nbformat_minor": 5
}
